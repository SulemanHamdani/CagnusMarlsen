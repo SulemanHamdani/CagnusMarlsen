{
 "cells": [
  {
   "cell_type": "code",
   "execution_count": 36,
   "metadata": {},
   "outputs": [],
   "source": [
    "import chess\n",
    "import chess.pgn\n",
    "import matplotlib.pyplot as plt\n",
    "import numpy as np\n",
    "from IPython import display\n",
    "import time\n",
    "from sklearn import preprocessing"
   ]
  },
  {
   "cell_type": "code",
   "execution_count": 6,
   "metadata": {},
   "outputs": [],
   "source": [
    "path = 'output.pgn'"
   ]
  },
  {
   "attachments": {},
   "cell_type": "markdown",
   "metadata": {},
   "source": [
    "## LAYOUT\n",
    "- The first section of this notebook extracts moves from the .PGN files.\n",
    "\n",
    "- The second section will label encode the board for each move of each game into an array of (1,64).\n",
    "\n",
    "- The third section will extract the evaluation of the board after each move of each game into an array of (1,1). Can directly be used as a target for supervised learning or can be used to classify into 15 different labels. Every board position can be labeled as Winning(7), Losing(7) or Draw according to the evaluation we have extracted."
   ]
  },
  {
   "attachments": {},
   "cell_type": "markdown",
   "metadata": {},
   "source": [
    "### Get Moves from PGN file"
   ]
  },
  {
   "cell_type": "code",
   "execution_count": 35,
   "metadata": {},
   "outputs": [],
   "source": [
    "def get_moves(game):\n",
    "    moves = []\n",
    "    for i in game.mainline_moves():\n",
    "        moves.append(i)\n",
    "    return moves"
   ]
  },
  {
   "cell_type": "code",
   "execution_count": 49,
   "metadata": {},
   "outputs": [],
   "source": [
    "file = open(path, encoding=\"utf-8\")\n",
    "games = []\n",
    "a = chess.pgn.read_game(file)\n",
    "while a:\n",
    "    games.append(a)\n",
    "    try:\n",
    "        a = chess.pgn.read_game(file)\n",
    "    except:\n",
    "        print(f'could not read game number {len(games)}')"
   ]
  },
  {
   "attachments": {},
   "cell_type": "markdown",
   "metadata": {},
   "source": [
    "### Label Encoding"
   ]
  },
  {
   "cell_type": "code",
   "execution_count": 33,
   "metadata": {},
   "outputs": [],
   "source": [
    "import numpy as np\n",
    "import chess\n",
    "\n",
    "def get_piece_type(piece):\n",
    "    # Helper function to get the type of a chess piece (with color information)\n",
    "    if piece is None:\n",
    "        return None\n",
    "    elif piece.color == chess.WHITE:\n",
    "        if piece.piece_type == chess.PAWN:\n",
    "            return 'P'\n",
    "        elif piece.piece_type == chess.KNIGHT:\n",
    "            return 'N'\n",
    "        elif piece.piece_type == chess.BISHOP:\n",
    "            return 'B'\n",
    "        elif piece.piece_type == chess.ROOK:\n",
    "            return 'R'\n",
    "        elif piece.piece_type == chess.QUEEN:\n",
    "            return 'Q'\n",
    "        elif piece.piece_type == chess.KING:\n",
    "            return 'K'\n",
    "    elif piece.color == chess.BLACK:\n",
    "        if piece.piece_type == chess.PAWN:\n",
    "            return 'p'\n",
    "        elif piece.piece_type == chess.KNIGHT:\n",
    "            return 'n'\n",
    "        elif piece.piece_type == chess.BISHOP:\n",
    "            return 'b'\n",
    "        elif piece.piece_type == chess.ROOK:\n",
    "            return 'r'\n",
    "        elif piece.piece_type == chess.QUEEN:\n",
    "            return 'q'\n",
    "        elif piece.piece_type == chess.KING:\n",
    "            return 'k'\n",
    "\n",
    "def get_board_matrix(board_state):\n",
    "    # Initialize an 8x8 matrix to represent the board\n",
    "    matrix = np.zeros((8, 8), dtype=str)\n",
    "\n",
    "    # Parse the board_state string to obtain the positions of the pieces on the board\n",
    "    board = chess.Board(board_state)\n",
    "    for row in range(8):\n",
    "        for col in range(8):\n",
    "            # Get the square index corresponding to the current row and column\n",
    "            square = chess.square(col, 7 - row)\n",
    "\n",
    "            # Get the type of the piece occupying the current square (if any)\n",
    "            piece_type = get_piece_type(board.piece_at(square))\n",
    "\n",
    "            # Store the piece type in the matrix\n",
    "            matrix[row][col] = piece_type or '.'\n",
    "\n",
    "    return matrix\n"
   ]
  },
  {
   "cell_type": "code",
   "execution_count": 41,
   "metadata": {},
   "outputs": [
    {
     "data": {
      "text/plain": [
       "array([['r', 'n', 'b', 'q', 'k', 'b', 'n', 'r'],\n",
       "       ['p', 'p', 'p', 'p', 'p', 'p', 'p', 'p'],\n",
       "       ['.', '.', '.', '.', '.', '.', '.', '.'],\n",
       "       ['.', '.', '.', '.', '.', '.', '.', '.'],\n",
       "       ['.', '.', '.', '.', '.', '.', '.', '.'],\n",
       "       ['.', '.', '.', '.', '.', '.', '.', '.'],\n",
       "       ['P', 'P', 'P', 'P', 'P', 'P', 'P', 'P'],\n",
       "       ['R', 'N', 'B', 'Q', 'K', 'B', 'N', 'R']], dtype='<U1')"
      ]
     },
     "execution_count": 41,
     "metadata": {},
     "output_type": "execute_result"
    }
   ],
   "source": [
    "get_board_matrix(games[0].board().fen())"
   ]
  },
  {
   "cell_type": "code",
   "execution_count": 42,
   "metadata": {},
   "outputs": [],
   "source": [
    "le = preprocessing.LabelEncoder()\n",
    "\n",
    "def label_encode_game(game):\n",
    "    board = game.board()\n",
    "    moves = get_moves(game)\n",
    "    encoded_moves = []\n",
    "    for move in moves:\n",
    "        board.push(move)\n",
    "        encoded_moves.append(le.fit_transform(get_board_matrix(board.fen()).flatten()))\n",
    "    return encoded_moves"
   ]
  },
  {
   "cell_type": "code",
   "execution_count": 44,
   "metadata": {},
   "outputs": [],
   "source": [
    "label_encoded_games = []\n",
    "for game in games:\n",
    "    label_encoded_games.append(label_encode_game(game))"
   ]
  },
  {
   "cell_type": "code",
   "execution_count": 155,
   "metadata": {},
   "outputs": [
    {
     "data": {
      "text/plain": [
       "array([12,  9,  7, 11,  8,  7,  9, 12, 10, 10, 10, 10, 10, 10, 10, 10,  0,\n",
       "        0,  0,  0,  0,  0,  0,  0,  0,  0,  0,  0,  0,  0,  0,  0,  0,  0,\n",
       "        0,  0,  4,  0,  0,  0,  0,  0,  0,  0,  0,  0,  0,  0,  4,  4,  4,\n",
       "        4,  0,  4,  4,  4,  6,  3,  1,  5,  2,  1,  3,  6], dtype=int64)"
      ]
     },
     "execution_count": 155,
     "metadata": {},
     "output_type": "execute_result"
    }
   ],
   "source": [
    "(label_encoded_games[1][0])"
   ]
  },
  {
   "attachments": {},
   "cell_type": "markdown",
   "metadata": {},
   "source": [
    "### Evaluation Extraction"
   ]
  },
  {
   "cell_type": "code",
   "execution_count": 60,
   "metadata": {},
   "outputs": [],
   "source": [
    "def get_node(game):\n",
    "    comments = []\n",
    "    for node in game.mainline_moves():\n",
    "        comments.append(node.comment)\n",
    "    return comments\n",
    "        "
   ]
  },
  {
   "cell_type": "code",
   "execution_count": 78,
   "metadata": {},
   "outputs": [],
   "source": [
    "def get_evaluation(game):\n",
    "    evaluation = []\n",
    "    for node in game.mainline():\n",
    "        comment = node.comment\n",
    "        comment = comment.split('/')\n",
    "        evaluation.append(comment[0])\n",
    "    return evaluation"
   ]
  },
  {
   "cell_type": "code",
   "execution_count": 79,
   "metadata": {},
   "outputs": [],
   "source": [
    "evaluations = []\n",
    "for game in games:\n",
    "    evaluations.append(get_evaluation(game))"
   ]
  },
  {
   "cell_type": "code",
   "execution_count": 89,
   "metadata": {},
   "outputs": [
    {
     "data": {
      "text/plain": [
       "'0.16'"
      ]
     },
     "execution_count": 89,
     "metadata": {},
     "output_type": "execute_result"
    }
   ],
   "source": [
    "evaluations[1][0] \n"
   ]
  },
  {
   "cell_type": "code",
   "execution_count": 314,
   "metadata": {},
   "outputs": [],
   "source": [
    "# X is the board state\n",
    "# Y is the evaluation\n",
    "\n",
    "y = []\n",
    "for i in range(len(label_encoded_games)):\n",
    "    for j in range(len(label_encoded_games[i])):\n",
    "        if evaluations[i][j] == '':\n",
    "            evaluations[i][j] = evaluations[i][j-1] #\n",
    "        else:\n",
    "            y.append(evaluations[i][j])\n",
    "\n",
    "\n",
    "y = np.array(y)\n"
   ]
  },
  {
   "cell_type": "code",
   "execution_count": 315,
   "metadata": {},
   "outputs": [
    {
     "name": "stdout",
     "output_type": "stream",
     "text": [
      "['0.24' '-0.30' '0.28' ... '62.65' '-74.24' '-74.24']\n"
     ]
    }
   ],
   "source": [
    "print(y)\n",
    "y = np.asarray(y, dtype=float)\n",
    "y_thresholded = np.zeros(len(y))"
   ]
  },
  {
   "cell_type": "code",
   "execution_count": 316,
   "metadata": {},
   "outputs": [],
   "source": [
    "y_thresholded = np.where(y > 1.5, 1, y_thresholded)\n",
    "y_thresholded = np.where(y < -1.5, -1, y_thresholded)\n",
    "y_thresholded = np.where((y >= -1.5) & (y <= 1.5), 0, y_thresholded)"
   ]
  },
  {
   "cell_type": "code",
   "execution_count": 317,
   "metadata": {},
   "outputs": [
    {
     "ename": "IndexError",
     "evalue": "index 59 is out of bounds for axis 0 with size 1",
     "output_type": "error",
     "traceback": [
      "\u001b[1;31m---------------------------------------------------------------------------\u001b[0m",
      "\u001b[1;31mIndexError\u001b[0m                                Traceback (most recent call last)",
      "Cell \u001b[1;32mIn[317], line 1\u001b[0m\n\u001b[1;32m----> 1\u001b[0m \u001b[39mprint\u001b[39m(x[\u001b[39m59\u001b[39;49m])\n\u001b[0;32m      2\u001b[0m \u001b[39mprint\u001b[39m(y_thresholded[\u001b[39m59\u001b[39m], \u001b[39m'\u001b[39m\u001b[39m\\n\u001b[39;00m\u001b[39m\\n\u001b[39;00m\u001b[39m'\u001b[39m)\n\u001b[0;32m      3\u001b[0m \u001b[39mprint\u001b[39m(x[\u001b[39m60\u001b[39m])\n",
      "\u001b[1;31mIndexError\u001b[0m: index 59 is out of bounds for axis 0 with size 1"
     ]
    }
   ],
   "source": [
    "print(x[59])\n",
    "print(y_thresholded[59], '\\n\\n')\n",
    "print(x[60])\n",
    "print(y_thresholded[60])"
   ]
  },
  {
   "attachments": {},
   "cell_type": "markdown",
   "metadata": {},
   "source": [
    "- Problems:\n",
    "    - The research paper says 'Pawns are represented as 1, Bishops and\n",
    "Knights as 3, Rooks as 5, Queens as 9 and the Kings as 10. These values are negated for the opponent\n",
    "    - Our label encoder has no way of knowing which player is which color. The two moves and their evaluations above is the proof that our model can get confused.\n",
    "\n",
    "- Solution:\n",
    "    - Use FEN notation to encode"
   ]
  },
  {
   "attachments": {},
   "cell_type": "markdown",
   "metadata": {},
   "source": [
    "### FEN Encoding"
   ]
  },
  {
   "cell_type": "code",
   "execution_count": 167,
   "metadata": {},
   "outputs": [
    {
     "data": {
      "text/plain": [
       "'rnbqkbnr/pppppppp/8/8/8/8/PPPPPPPP/RNBQKBNR w KQkq - 0 1'"
      ]
     },
     "execution_count": 167,
     "metadata": {},
     "output_type": "execute_result"
    }
   ],
   "source": [
    "games[0].board().fen()"
   ]
  },
  {
   "cell_type": "code",
   "execution_count": 171,
   "metadata": {},
   "outputs": [
    {
     "data": {
      "text/plain": [
       "'w'"
      ]
     },
     "execution_count": 171,
     "metadata": {},
     "output_type": "execute_result"
    }
   ],
   "source": [
    "games[0].board().fen().split(' ')[1]"
   ]
  },
  {
   "cell_type": "code",
   "execution_count": 173,
   "metadata": {},
   "outputs": [
    {
     "data": {
      "text/plain": [
       "array([['r', 'n', 'b', 'q', 'k', 'b', 'n', 'r'],\n",
       "       ['p', 'p', 'p', 'p', 'p', 'p', 'p', 'p'],\n",
       "       ['.', '.', '.', '.', '.', '.', '.', '.'],\n",
       "       ['.', '.', '.', '.', '.', '.', '.', '.'],\n",
       "       ['.', '.', '.', '.', '.', '.', '.', '.'],\n",
       "       ['.', '.', '.', '.', '.', '.', '.', '.'],\n",
       "       ['P', 'P', 'P', 'P', 'P', 'P', 'P', 'P'],\n",
       "       ['R', 'N', 'B', 'Q', 'K', 'B', 'N', 'R']], dtype='<U1')"
      ]
     },
     "execution_count": 173,
     "metadata": {},
     "output_type": "execute_result"
    }
   ],
   "source": [
    "get_board_matrix(games[0].board().fen())"
   ]
  },
  {
   "cell_type": "code",
   "execution_count": 172,
   "metadata": {},
   "outputs": [],
   "source": [
    "def check_turn(board_state):\n",
    "    if board_state.split(' ')[1] == 'w':\n",
    "        return 'w'\n",
    "    else:\n",
    "        return 'b' "
   ]
  },
  {
   "cell_type": "code",
   "execution_count": 200,
   "metadata": {},
   "outputs": [],
   "source": [
    "def label_encode_for_white(board_matrix):\n",
    "\n",
    "    new_board_matrix = np.zeros((8, 8), dtype=int)\n",
    "   \n",
    "    for i in range(len(board_matrix)):\n",
    "        for j in range(len(board_matrix[i])):\n",
    "            if board_matrix[i][j] == 'P':\n",
    "                new_board_matrix[i][j] = 1\n",
    "            elif board_matrix[i][j] == 'N':\n",
    "                new_board_matrix[i][j] = 3\n",
    "            elif board_matrix[i][j] == 'B':\n",
    "                new_board_matrix[i][j] = 3\n",
    "            elif board_matrix[i][j] == 'R':\n",
    "                new_board_matrix[i][j] = 5\n",
    "            elif board_matrix[i][j] == 'Q':\n",
    "                new_board_matrix[i][j] = 9\n",
    "            elif board_matrix[i][j] == 'K':\n",
    "                new_board_matrix[i][j] = 10\n",
    "            elif board_matrix[i][j] == '.':\n",
    "                new_board_matrix[i][j] = 0\n",
    "            elif board_matrix[i][j] == 'p':\n",
    "                new_board_matrix[i][j] = -1\n",
    "            elif board_matrix[i][j] == 'n':\n",
    "                new_board_matrix[i][j] = -3\n",
    "            elif board_matrix[i][j] == 'b':\n",
    "                new_board_matrix[i][j] = -3\n",
    "            elif board_matrix[i][j] == 'r':\n",
    "                new_board_matrix[i][j] = -5\n",
    "            elif board_matrix[i][j] == 'q':\n",
    "                new_board_matrix[i][j] = -9\n",
    "            elif board_matrix[i][j] == 'k':\n",
    "                new_board_matrix[i][j] = -10\n",
    "    return new_board_matrix\n",
    "\n",
    "\n",
    "def label_encode_for_black(board_matrix):\n",
    "    new_board_matrix = np.zeros((8, 8), dtype=int)\n",
    "    \n",
    "    for i in range(len(board_matrix)):\n",
    "        for j in range(len(board_matrix[i])):\n",
    "            if board_matrix[i][j] == 'P':\n",
    "                new_board_matrix[i][j] = -1\n",
    "            elif board_matrix[i][j] == 'N':\n",
    "                new_board_matrix[i][j] = -3\n",
    "            elif board_matrix[i][j] == 'B':\n",
    "                new_board_matrix[i][j] = -3\n",
    "            elif board_matrix[i][j] == 'R':\n",
    "                new_board_matrix[i][j] = -5\n",
    "            elif board_matrix[i][j] == 'Q':\n",
    "                new_board_matrix[i][j] = -9\n",
    "            elif board_matrix[i][j] == 'K':\n",
    "                new_board_matrix[i][j] = -10\n",
    "            elif board_matrix[i][j] == '.':\n",
    "                new_board_matrix[i][j] = 0\n",
    "            elif board_matrix[i][j] == 'p':\n",
    "                new_board_matrix[i][j] = 1\n",
    "            elif board_matrix[i][j] == 'n':\n",
    "                new_board_matrix[i][j] = 3\n",
    "            elif board_matrix[i][j] == 'b':\n",
    "                new_board_matrix[i][j] = 3\n",
    "            elif board_matrix[i][j] == 'r':\n",
    "                new_board_matrix[i][j] = 5\n",
    "            elif board_matrix[i][j] == 'q':\n",
    "                new_board_matrix[i][j] = 9\n",
    "            elif board_matrix[i][j] == 'k':\n",
    "                new_board_matrix[i][j] = 10\n",
    "    return new_board_matrix\n"
   ]
  },
  {
   "cell_type": "code",
   "execution_count": 201,
   "metadata": {},
   "outputs": [],
   "source": [
    "def label_helper(board_state):\n",
    "    board_matrix = get_board_matrix(board_state)\n",
    "    if check_turn(board_state) == 'w':\n",
    "       board_matrix = label_encode_for_black(board_matrix)\n",
    "    elif check_turn(board_state) == 'b':\n",
    "       board_matrix = label_encode_for_white(board_matrix)\n",
    "    return board_matrix\n",
    "        "
   ]
  },
  {
   "cell_type": "code",
   "execution_count": 202,
   "metadata": {},
   "outputs": [],
   "source": [
    "# new label encoding\n",
    "def label_encode_game_based_on_turn(game):\n",
    "    board = game.board()\n",
    "    moves = get_moves(game)\n",
    "    encoded_moves = []\n",
    "    for move in moves:\n",
    "        board.push(move)\n",
    "        board_state = board.fen()\n",
    "        # encoded_moves.append(le.fit_transform(get_board_matrix(board.fen()).flatten()))\n",
    "        encoded_moves.append(label_helper(board_state).flatten())\n",
    "    return encoded_moves"
   ]
  },
  {
   "cell_type": "code",
   "execution_count": 203,
   "metadata": {},
   "outputs": [],
   "source": [
    "label_encoded_games_based_on_turn = []\n",
    "for game in games:\n",
    "    label_encoded_games_based_on_turn.append(label_encode_game_based_on_turn(game))"
   ]
  },
  {
   "cell_type": "code",
   "execution_count": 208,
   "metadata": {},
   "outputs": [
    {
     "name": "stdout",
     "output_type": "stream",
     "text": [
      "[  5   3   3   9  10   3   0   5   1   1   1   1   1   1   1   1   0   0\n",
      "   0   0   0   3   0   0   0   0   0   0   0   0   0   0   0   0   0  -1\n",
      "   0   0   0   0   0   0   0   0   0   0   0   0  -1  -1  -1   0  -1  -1\n",
      "  -1  -1  -5  -3  -3  -9 -10  -3  -3  -5]\n",
      "rnbqkb1r/pppppppp/5n2/8/3P4/8/PPP1PPPP/RNBQKBNR w KQkq - 1 2\n",
      "[['r' 'n' 'b' 'q' 'k' 'b' '.' 'r']\n",
      " ['p' 'p' 'p' 'p' 'p' 'p' 'p' 'p']\n",
      " ['.' '.' '.' '.' '.' 'n' '.' '.']\n",
      " ['.' '.' '.' '.' '.' '.' '.' '.']\n",
      " ['.' '.' '.' 'P' '.' '.' '.' '.']\n",
      " ['.' '.' '.' '.' '.' '.' '.' '.']\n",
      " ['P' 'P' 'P' '.' 'P' 'P' 'P' 'P']\n",
      " ['R' 'N' 'B' 'Q' 'K' 'B' 'N' 'R']]\n"
     ]
    }
   ],
   "source": [
    "print(label_encoded_games_based_on_turn[0][1])\n",
    "print(games[0][0][0].board().fen())\n",
    "print(get_board_matrix(games[0][0][0].board().fen()))"
   ]
  },
  {
   "cell_type": "code",
   "execution_count": 318,
   "metadata": {},
   "outputs": [],
   "source": [
    "x = []\n",
    "for i in range(len(label_encoded_games_based_on_turn)):\n",
    "    for j in range(len(label_encoded_games_based_on_turn[i])):\n",
    "        x.append(label_encoded_games_based_on_turn[i][j])\n",
    "\n",
    "x = np.array(x)"
   ]
  },
  {
   "cell_type": "code",
   "execution_count": 319,
   "metadata": {},
   "outputs": [
    {
     "name": "stdout",
     "output_type": "stream",
     "text": [
      "[  0   0   0   0   5   0  10   0   0   0   0   0   0   1   1   1   0   0\n",
      "  -3   0   0   0   0   0   0   0   0   0   0   0   0   0   0   0   0  -9\n",
      "   5   0   0   0   0   0  -5   0  -1   0   0   0  -1   9   0   0   0  -1\n",
      "  -1   0   0   0   0   0   0 -10   0   0]\n",
      "-3.11\n"
     ]
    }
   ],
   "source": [
    "print(x[61])\n",
    "print((y[61]))"
   ]
  },
  {
   "cell_type": "code",
   "execution_count": 320,
   "metadata": {},
   "outputs": [],
   "source": [
    "# Define the labels\n",
    "winning_labels = [f\"Winning-{i}\" for i in range(1, 8)]\n",
    "losing_labels = [f\"Losing-{i}\" for i in range(1, 8)]\n",
    "draw_label = \"Draw\"\n",
    "\n",
    "# Initialize the label list\n",
    "labels = []\n",
    "\n",
    "# Assign labels based on the evaluation values\n",
    "for i in range(len(y)):\n",
    "    if y[i] > 1.5:\n",
    "        labels.append(winning_labels[min(int((y[i]-1.5)/1), 6)])\n",
    "    elif y[i] < -1.5:\n",
    "        labels.append(losing_labels[min(int((abs(y[i])-1.5)/1), 6)])\n",
    "    else:\n",
    "        labels.append(draw_label)\n"
   ]
  },
  {
   "cell_type": "code",
   "execution_count": 321,
   "metadata": {},
   "outputs": [
    {
     "name": "stdout",
     "output_type": "stream",
     "text": [
      "Winning-3\n",
      "4.3\n"
     ]
    }
   ],
   "source": [
    "labels = np.array(labels)\n",
    "# print where label == with winning-6\n",
    "# print(np.where(labels == 'Winning-1'))\n",
    "print(labels[41])\n",
    "print(y[41])\n"
   ]
  },
  {
   "cell_type": "code",
   "execution_count": 322,
   "metadata": {},
   "outputs": [],
   "source": [
    "for i in range(len(labels)):\n",
    "    if labels[i].startswith('Winning'):\n",
    "        labels[i] = int(labels[i].split('-')[1])\n",
    "    elif labels[i].startswith('Losing'):\n",
    "        labels[i] = -int(labels[i].split('-')[1])\n",
    "    elif labels[i] == 'Draw':\n",
    "        labels[i] = 0"
   ]
  },
  {
   "cell_type": "code",
   "execution_count": 323,
   "metadata": {},
   "outputs": [
    {
     "name": "stdout",
     "output_type": "stream",
     "text": [
      "[  0   0   0   0   5   0  10   0   1   0   0   0   0   1   1   1   0   0\n",
      "   1   9   0   0   5   0   0   0   0   1   0   0   0   0   0   0   0  -9\n",
      "   0   0   0   0  -5   0   0   0  -1   0   0   0  -1  -1   0   0   3  -1\n",
      "  -1  -1   0   0   0   0  -3  -5 -10   0]\n",
      "3\n",
      "<class 'numpy.str_'>\n"
     ]
    },
    {
     "data": {
      "text/plain": [
       "array([ 0,  0,  0, ...,  7, -7, -7])"
      ]
     },
     "execution_count": 323,
     "metadata": {},
     "output_type": "execute_result"
    }
   ],
   "source": [
    "print(x[41])\n",
    "print(labels[41])\n",
    "print(type(labels[0]))\n",
    "labels = labels.astype(int)\n",
    "labels"
   ]
  },
  {
   "attachments": {},
   "cell_type": "markdown",
   "metadata": {},
   "source": [
    "- This labeling and encoding seems reasonable. In the next notebook, we will use this data to train a model."
   ]
  },
  {
   "cell_type": "code",
   "execution_count": 324,
   "metadata": {},
   "outputs": [],
   "source": [
    "# save the data\n",
    "# np.save('x.npy', x)\n",
    "# np.save('y.npy', labels)"
   ]
  },
  {
   "attachments": {},
   "cell_type": "markdown",
   "metadata": {},
   "source": [
    "## Playing "
   ]
  },
  {
   "cell_type": "code",
   "execution_count": 325,
   "metadata": {},
   "outputs": [],
   "source": [
    "#import load_model\n",
    "from tensorflow.keras.models import load_model\n",
    "# load model\n",
    "model = load_model('chessengine.h5') #"
   ]
  },
  {
   "cell_type": "code",
   "execution_count": 337,
   "metadata": {},
   "outputs": [
    {
     "name": "stdout",
     "output_type": "stream",
     "text": [
      "[  0   0   0   0   5   0  10   0   0   0   0   0   0   1   1   1   0   0\n",
      "  -3   0   0   0   0   0   0   0   0   0   0   0   0   0   0   0   0  -9\n",
      "   5   0   0   0   0   0  -5   0  -1   0   0   0  -1   9   0   0   0  -1\n",
      "  -1   0   0   0   0   0   0 -10   0   0]\n",
      "1/1 [==============================] - 0s 30ms/step\n",
      "[14]\n"
     ]
    }
   ],
   "source": [
    "# predict\n",
    "print(x[61])\n",
    "predictions = model.predict(x[100432].reshape(1, 64))\n",
    "prediction = np.argmax(predictions, axis=1)\n",
    "print(prediction)"
   ]
  },
  {
   "cell_type": "code",
   "execution_count": null,
   "metadata": {},
   "outputs": [],
   "source": [
    "# play chess\n",
    "import chess\n",
    "import random\n",
    "from IPython import display\n",
    "\n",
    "board = chess.Board()\n",
    "display.display(board)\n",
    "\n",
    "# play against the model\n",
    "while not board.is_game_over():\n",
    "    legal_moves = [move for move in board.legal_moves]\n",
    "    best_score = float('-inf')\n",
    "    best_move_index = None\n",
    "\n",
    "    for i, move in enumerate(legal_moves):\n",
    "        board.push(move)\n",
    "        x = np.array([label_helper(board.fen()).flatten()])\n",
    "        y = model.predict(x)[0]\n",
    "        score = y.max()  # get the highest score out of all classes\n",
    "        if score > best_score:\n",
    "            best_score = score\n",
    "            best_move_index = i\n",
    "        board.pop()\n",
    "        print(move, score)\n",
    "        \n",
    "    best_move = legal_moves[best_move_index]\n",
    "    print('best move:', best_move)\n",
    "\n",
    "    board.push(best_move)\n",
    "    display.display(board)\n",
    "\n",
    "    human_move = input('Your move: ')\n",
    "    try:\n",
    "        board.push_san(human_move)\n",
    "    except ValueError:\n",
    "        print('Illegal move')\n",
    "\n",
    "    display.display(board)\n"
   ]
  }
 ],
 "metadata": {
  "kernelspec": {
   "display_name": "Python 3",
   "language": "python",
   "name": "python3"
  },
  "language_info": {
   "codemirror_mode": {
    "name": "ipython",
    "version": 3
   },
   "file_extension": ".py",
   "mimetype": "text/x-python",
   "name": "python",
   "nbconvert_exporter": "python",
   "pygments_lexer": "ipython3",
   "version": "3.10.1"
  },
  "orig_nbformat": 4
 },
 "nbformat": 4,
 "nbformat_minor": 2
}
