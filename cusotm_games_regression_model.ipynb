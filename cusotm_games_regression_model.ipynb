{
 "cells": [
  {
   "cell_type": "code",
   "execution_count": 1,
   "metadata": {},
   "outputs": [],
   "source": [
    "import numpy as np\n",
    "import pandas as pd"
   ]
  },
  {
   "cell_type": "code",
   "execution_count": 2,
   "metadata": {},
   "outputs": [],
   "source": [
    "\n",
    "x_eval = np.load('x_eval.npy')\n",
    "y_eval = np.load('y_eval.npy')\n"
   ]
  },
  {
   "cell_type": "code",
   "execution_count": 5,
   "metadata": {},
   "outputs": [
    {
     "data": {
      "text/plain": [
       "(126256,)"
      ]
     },
     "execution_count": 5,
     "metadata": {},
     "output_type": "execute_result"
    }
   ],
   "source": [
    "x_eval.shape\n",
    "y_eval.shape"
   ]
  },
  {
   "cell_type": "code",
   "execution_count": 15,
   "metadata": {},
   "outputs": [],
   "source": [
    "\n",
    "y_eval = y_eval.astype(float)"
   ]
  },
  {
   "cell_type": "code",
   "execution_count": 18,
   "metadata": {},
   "outputs": [
    {
     "data": {
      "text/plain": [
       "319.98"
      ]
     },
     "execution_count": 18,
     "metadata": {},
     "output_type": "execute_result"
    }
   ],
   "source": [
    "np.max(y_eval)"
   ]
  },
  {
   "cell_type": "code",
   "execution_count": 20,
   "metadata": {},
   "outputs": [],
   "source": [
    "from sklearn.preprocessing import MinMaxScaler\n",
    "\n",
    "scaler = MinMaxScaler()\n",
    "\n",
    "\n",
    "y_norm = scaler.fit_transform(y_eval.reshape(-1, 1))\n"
   ]
  },
  {
   "cell_type": "code",
   "execution_count": 21,
   "metadata": {},
   "outputs": [
    {
     "data": {
      "text/plain": [
       "array([[0.50038283],\n",
       "       [0.49953904],\n",
       "       [0.50044533],\n",
       "       ...,\n",
       "       [0.59790303],\n",
       "       [0.38400238],\n",
       "       [0.38400238]])"
      ]
     },
     "execution_count": 21,
     "metadata": {},
     "output_type": "execute_result"
    }
   ],
   "source": [
    "y_norm"
   ]
  },
  {
   "cell_type": "code",
   "execution_count": 24,
   "metadata": {},
   "outputs": [
    {
     "data": {
      "text/plain": [
       "(126256, 64)"
      ]
     },
     "execution_count": 24,
     "metadata": {},
     "output_type": "execute_result"
    }
   ],
   "source": [
    "x_eval.shape"
   ]
  },
  {
   "cell_type": "code",
   "execution_count": 46,
   "metadata": {},
   "outputs": [
    {
     "name": "stdout",
     "output_type": "stream",
     "text": [
      "Model: \"sequential_3\"\n",
      "_________________________________________________________________\n",
      " Layer (type)                Output Shape              Param #   \n",
      "=================================================================\n",
      " dense_12 (Dense)            (None, 2048)              133120    \n",
      "                                                                 \n",
      " batch_normalization_9 (Batc  (None, 2048)             8192      \n",
      " hNormalization)                                                 \n",
      "                                                                 \n",
      " dense_13 (Dense)            (None, 2048)              4196352   \n",
      "                                                                 \n",
      " batch_normalization_10 (Bat  (None, 2048)             8192      \n",
      " chNormalization)                                                \n",
      "                                                                 \n",
      " dense_14 (Dense)            (None, 2048)              4196352   \n",
      "                                                                 \n",
      " batch_normalization_11 (Bat  (None, 2048)             8192      \n",
      " chNormalization)                                                \n",
      "                                                                 \n",
      " dense_15 (Dense)            (None, 1)                 2049      \n",
      "                                                                 \n",
      "=================================================================\n",
      "Total params: 8,552,449\n",
      "Trainable params: 8,540,161\n",
      "Non-trainable params: 12,288\n",
      "_________________________________________________________________\n"
     ]
    }
   ],
   "source": [
    "from tensorflow.keras.models import Sequential\n",
    "from tensorflow.keras.layers import Dense, BatchNormalization, Dropout\n",
    "from tensorflow.keras.optimizers import Adagrad # for epsilon but i guess sgd can be used too\n",
    "from tensorflow.keras.losses import mean_squared_error\n",
    "\n",
    "\n",
    "input_shape = (64,)\n",
    "output_shape = (1,)\n",
    "num_hidden_layers = 3\n",
    "num_hidden_units = 2048\n",
    "activation = 'elu'\n",
    "learning_rate = 0.001\n",
    "epsilon = 1e-8\n",
    "momentum = 0.7\n",
    "\n",
    "\n",
    "model = Sequential()\n",
    "model.add(Dense(num_hidden_units, input_shape=input_shape, activation=activation))\n",
    "model.add(BatchNormalization())\n",
    "\n",
    "for i in range(num_hidden_layers-1):\n",
    "    model.add(Dense(num_hidden_units, activation=activation))\n",
    "    model.add(BatchNormalization())\n",
    "\n",
    "model.add(Dense(output_shape[0]))\n",
    "\n",
    "\n",
    "optimizer = Adagrad(learning_rate=learning_rate, epsilon=epsilon)\n",
    "model.compile(optimizer=optimizer, loss=mean_squared_error, metrics=['accuracy'])\n",
    "\n",
    "\n",
    "# loss function mean average error\n",
    "\n",
    "model.summary()\n"
   ]
  },
  {
   "cell_type": "code",
   "execution_count": null,
   "metadata": {},
   "outputs": [],
   "source": [
    "from sklearn.model_selection import train_test_split\n",
    "\n",
    "# # Split the data into train and test sets\n",
    "x_train, x_test, y_train_norm, y_test_norm = train_test_split(x_eval, y_norm, test_size=0.2, random_state=42)\n",
    "history = model.fit(x_train, y_train_norm, epochs=5, batch_size=32, validation_data=(x_test, y_test_norm))\n"
   ]
  },
  {
   "cell_type": "code",
   "execution_count": 29,
   "metadata": {},
   "outputs": [
    {
     "data": {
      "image/png": "[encoded data removed]",
      "text/plain": [
       "<Figure size 640x480 with 1 Axes>"
      ]
     },
     "metadata": {},
     "output_type": "display_data"
    }
   ],
   "source": [
    "import matplotlib.pyplot as plt\n",
    "\n",
    "plt.plot(history.history['loss'], label='train')\n",
    "plt.plot(history.history['val_loss'], label='test')\n",
    "plt.legend()\n",
    "plt.show()\n"
   ]
  },
  {
   "cell_type": "code",
   "execution_count": 45,
   "metadata": {},
   "outputs": [
    {
     "name": "stdout",
     "output_type": "stream",
     "text": [
      "Test loss: 0.01173939649015665\n"
     ]
    }
   ],
   "source": [
    "# Evaluate the model on the test set\n",
    "test_loss = model.evaluate(x_test, y_test_norm, verbose=0)\n",
    "print('Test loss:', test_loss)"
   ]
  },
  {
   "cell_type": "code",
   "execution_count": 37,
   "metadata": {},
   "outputs": [
    {
     "name": "stdout",
     "output_type": "stream",
     "text": [
      "[[-17.622908 ]\n",
      " [ 66.78771  ]\n",
      " [-72.51498  ]\n",
      " ...\n",
      " [ -6.1629486]\n",
      " [ 26.436365 ]\n",
      " [ 19.559702 ]]\n"
     ]
    }
   ],
   "source": [
    "print(y_pred)"
   ]
  },
  {
   "cell_type": "code",
   "execution_count": 39,
   "metadata": {},
   "outputs": [],
   "source": [
    "#save the model\n",
    "model.save('custom_games_regression_model.h5')"
   ]
  },
  {
   "cell_type": "code",
   "execution_count": 44,
   "metadata": {},
   "outputs": [],
   "source": [
    "# from tensorflow.keras.models import Sequential\n",
    "# from tensorflow.keras.layers import Dense, BatchNormalization, Dropout\n",
    "# from tensorflow.keras.optimizers import Adagrad # for epsilon but i guess sgd can be used too\n",
    "# from tensorflow.keras.losses import mean_absolute_error\n",
    "\n",
    "\n",
    "# input_shape = (64,)\n",
    "# output_shape = (1,)\n",
    "# num_hidden_layers = 3\n",
    "# num_hidden_units = 2048\n",
    "# activation = 'elu'\n",
    "# learning_rate = 0.001\n",
    "# epsilon = 1e-8\n",
    "# momentum = 0.7\n",
    "\n",
    "\n",
    "# model = Sequential()\n",
    "# model.add(Dense(num_hidden_units, input_shape=input_shape, activation=activation))\n",
    "# model.add(BatchNormalization())\n",
    "\n",
    "# for i in range(num_hidden_layers-1):\n",
    "#     model.add(Dense(num_hidden_units, activation=activation))\n",
    "#     model.add(BatchNormalization())\n",
    "\n",
    "# model.add(Dense(output_shape[0]))\n",
    "\n",
    "\n",
    "# optimizer = Adagrad(learning_rate=learning_rate, epsilon=epsilon)\n",
    "# model.compile(optimizer=optimizer, loss=mean_absolute_error, metrics=['mean_absolute_error'])\n",
    "\n",
    "\n",
    "# # loss function mean average error\n",
    "\n",
    "# model.summary()\n"
   ]
  },
  {
   "cell_type": "code",
   "execution_count": 42,
   "metadata": {},
   "outputs": [],
   "source": [
    "# train the model\n",
    "# history = model.fit(x_train, y_train_norm, epochs=1, batch_size=32, validation_data=(x_test, y_test_norm))"
   ]
  },
  {
   "cell_type": "code",
   "execution_count": 43,
   "metadata": {},
   "outputs": [],
   "source": [
    "# #Load model\n",
    "# from tensorflow.keras.models import load_model\n",
    "# model = load_model('custom_games_regression_model.h5')"
   ]
  },
  {
   "cell_type": "code",
   "execution_count": null,
   "metadata": {},
   "outputs": [],
   "source": []
  }
 ],
 "metadata": {
  "kernelspec": {
   "display_name": "Python 3",
   "language": "python",
   "name": "python3"
  },
  "language_info": {
   "codemirror_mode": {
    "name": "ipython",
    "version": 3
   },
   "file_extension": ".py",
   "mimetype": "text/x-python",
   "name": "python",
   "nbconvert_exporter": "python",
   "pygments_lexer": "ipython3",
   "version": "3.10.1"
  },
  "orig_nbformat": 4
 },
 "nbformat": 4,
 "nbformat_minor": 2
}
