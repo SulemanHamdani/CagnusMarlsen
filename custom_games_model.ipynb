{
 "cells": [
  {
   "cell_type": "code",
   "execution_count": 21,
   "metadata": {},
   "outputs": [],
   "source": [
    "import chess"
   ]
  },
  {
   "cell_type": "code",
   "execution_count": 11,
   "metadata": {},
   "outputs": [],
   "source": [
    "# load x.npy and y.npy\n",
    "\n",
    "import numpy as np\n",
    "import matplotlib.pyplot as plt\n",
    "#import train test split\n",
    "\n",
    "# load data\n",
    "x = np.load('x.npy').reshape(-1, 64)\n",
    "y = np.load('y.npy')"
   ]
  },
  {
   "cell_type": "code",
   "execution_count": 19,
   "metadata": {},
   "outputs": [],
   "source": [
    "def get_moves(game):\n",
    "    moves = []\n",
    "    for i in game.mainline_moves():\n",
    "        moves.append(i)\n",
    "    return moves"
   ]
  },
  {
   "cell_type": "code",
   "execution_count": 9,
   "metadata": {},
   "outputs": [
    {
     "name": "stdout",
     "output_type": "stream",
     "text": [
      "[  0   0   0   0   5   0  10   0   1   0   0   0   0   1   1   1   0   0\n",
      "   1   9   0   0   5   0   0   0   0   1   0   0   0   0   0   0   0  -9\n",
      "   0   0   0   0  -5   0   0   0  -1   0   0   0  -1  -1   0   0   3  -1\n",
      "  -1  -1   0   0   0   0  -3  -5 -10   0]\n",
      "3\n"
     ]
    }
   ],
   "source": [
    "print(x[41])\n",
    "print(y[41])"
   ]
  },
  {
   "attachments": {},
   "cell_type": "markdown",
   "metadata": {},
   "source": [
    "### The model was trained on colab and saved as a .h5 file"
   ]
  },
  {
   "cell_type": "code",
   "execution_count": null,
   "metadata": {},
   "outputs": [],
   "source": [
    "import numpy as np\n",
    "import tensorflow as tf\n",
    "# import train test split\n",
    "from sklearn.model_selection import train_test_split\n",
    "\n",
    "\n",
    "# Convert labels to one-hot encoded vectors\n",
    "y_one_hot = tf.keras.utils.to_categorical(y, num_classes=15)\n",
    "\n",
    "# Split the data into training and testing sets\n",
    "x_train, x_test, y_train, y_test = train_test_split(x, y_one_hot, test_size=0.2, random_state=42)\n",
    "\n",
    "# Define the model\n",
    "model = tf.keras.Sequential([\n",
    "    tf.keras.layers.Dense(2048, activation='elu', input_shape=(64,)),\n",
    "    tf.keras.layers.Dense(2048, activation='elu'),\n",
    "    tf.keras.layers.Dense(1050, activation='elu'),\n",
    "    tf.keras.layers.Dense(15, activation='softmax')\n",
    "])\n",
    "\n",
    "# Compile the model\n",
    "model.compile(optimizer='adam', loss='categorical_crossentropy', metrics=['accuracy'])\n",
    "\n",
    "# Train the model\n",
    "hist = model.fit(x_train, y_train, epochs=10, batch_size=32, validation_data=(x_test, y_test))\n",
    "\n",
    "#plot loss\n",
    "plt.plot(hist.history['loss'])\n",
    "plt.plot(hist.history['val_loss'])\n",
    "plt.title('Loss')\n",
    "plt.xlabel('Epoch')\n",
    "plt.ylabel('Loss')\n",
    "plt.legend(['Train', 'Val'], loc='upper right')\n"
   ]
  },
  {
   "cell_type": "code",
   "execution_count": 13,
   "metadata": {},
   "outputs": [],
   "source": [
    "#import load_model\n",
    "from tensorflow.keras.models import load_model\n",
    "# load model\n",
    "model = load_model('chessengine.h5')"
   ]
  },
  {
   "cell_type": "code",
   "execution_count": 20,
   "metadata": {},
   "outputs": [],
   "source": [
    "def check_turn(board_state):\n",
    "    if board_state.split(' ')[1] == 'w':\n",
    "        return 'w'\n",
    "    else:\n",
    "        return 'b' "
   ]
  },
  {
   "cell_type": "code",
   "execution_count": null,
   "metadata": {},
   "outputs": [],
   "source": [
    "def get_piece_type(piece):\n",
    "    # Helper function to get the type of a chess piece (with color information)\n",
    "    if piece is None:\n",
    "        return None\n",
    "    elif piece.color == chess.WHITE:\n",
    "        if piece.piece_type == chess.PAWN:\n",
    "            return 'P'\n",
    "        elif piece.piece_type == chess.KNIGHT:\n",
    "            return 'N'\n",
    "        elif piece.piece_type == chess.BISHOP:\n",
    "            return 'B'\n",
    "        elif piece.piece_type == chess.ROOK:\n",
    "            return 'R'\n",
    "        elif piece.piece_type == chess.QUEEN:\n",
    "            return 'Q'\n",
    "        elif piece.piece_type == chess.KING:\n",
    "            return 'K'\n",
    "    elif piece.color == chess.BLACK:\n",
    "        if piece.piece_type == chess.PAWN:\n",
    "            return 'p'\n",
    "        elif piece.piece_type == chess.KNIGHT:\n",
    "            return 'n'\n",
    "        elif piece.piece_type == chess.BISHOP:\n",
    "            return 'b'\n",
    "        elif piece.piece_type == chess.ROOK:\n",
    "            return 'r'\n",
    "        elif piece.piece_type == chess.QUEEN:\n",
    "            return 'q'\n",
    "        elif piece.piece_type == chess.KING:\n",
    "            return 'k'\n",
    "\n",
    "\n",
    "\n",
    "def get_board_matrix(board_state):\n",
    "    # Initialize an 8x8 matrix to represent the board\n",
    "    matrix = np.zeros((8, 8), dtype=str)\n",
    "\n",
    "    # Parse the board_state string to obtain the positions of the pieces on the board\n",
    "    board = chess.Board(board_state)\n",
    "    for row in range(8):\n",
    "        for col in range(8):\n",
    "            # Get the square index corresponding to the current row and column\n",
    "            square = chess.square(col, 7 - row)\n",
    "\n",
    "            # Get the type of the piece occupying the current square (if any)\n",
    "            piece_type = get_piece_type(board.piece_at(square))\n",
    "\n",
    "            # Store the piece type in the matrix\n",
    "            matrix[row][col] = piece_type or '.'\n",
    "\n",
    "    return matrix"
   ]
  },
  {
   "cell_type": "code",
   "execution_count": null,
   "metadata": {},
   "outputs": [],
   "source": [
    "def label_encode_for_white(board_matrix):\n",
    "\n",
    "    new_board_matrix = np.zeros((8, 8), dtype=int)\n",
    "   \n",
    "    for i in range(len(board_matrix)):\n",
    "        for j in range(len(board_matrix[i])):\n",
    "            if board_matrix[i][j] == 'P':\n",
    "                new_board_matrix[i][j] = 1\n",
    "            elif board_matrix[i][j] == 'N':\n",
    "                new_board_matrix[i][j] = 3\n",
    "            elif board_matrix[i][j] == 'B':\n",
    "                new_board_matrix[i][j] = 3\n",
    "            elif board_matrix[i][j] == 'R':\n",
    "                new_board_matrix[i][j] = 5\n",
    "            elif board_matrix[i][j] == 'Q':\n",
    "                new_board_matrix[i][j] = 9\n",
    "            elif board_matrix[i][j] == 'K':\n",
    "                new_board_matrix[i][j] = 10\n",
    "            elif board_matrix[i][j] == '.':\n",
    "                new_board_matrix[i][j] = 0\n",
    "            elif board_matrix[i][j] == 'p':\n",
    "                new_board_matrix[i][j] = -1\n",
    "            elif board_matrix[i][j] == 'n':\n",
    "                new_board_matrix[i][j] = -3\n",
    "            elif board_matrix[i][j] == 'b':\n",
    "                new_board_matrix[i][j] = -3\n",
    "            elif board_matrix[i][j] == 'r':\n",
    "                new_board_matrix[i][j] = -5\n",
    "            elif board_matrix[i][j] == 'q':\n",
    "                new_board_matrix[i][j] = -9\n",
    "            elif board_matrix[i][j] == 'k':\n",
    "                new_board_matrix[i][j] = -10\n",
    "    return new_board_matrix\n",
    "\n",
    "\n",
    "def label_encode_for_black(board_matrix):\n",
    "    new_board_matrix = np.zeros((8, 8), dtype=int)\n",
    "    \n",
    "    for i in range(len(board_matrix)):\n",
    "        for j in range(len(board_matrix[i])):\n",
    "            if board_matrix[i][j] == 'P':\n",
    "                new_board_matrix[i][j] = -1\n",
    "            elif board_matrix[i][j] == 'N':\n",
    "                new_board_matrix[i][j] = -3\n",
    "            elif board_matrix[i][j] == 'B':\n",
    "                new_board_matrix[i][j] = -3\n",
    "            elif board_matrix[i][j] == 'R':\n",
    "                new_board_matrix[i][j] = -5\n",
    "            elif board_matrix[i][j] == 'Q':\n",
    "                new_board_matrix[i][j] = -9\n",
    "            elif board_matrix[i][j] == 'K':\n",
    "                new_board_matrix[i][j] = -10\n",
    "            elif board_matrix[i][j] == '.':\n",
    "                new_board_matrix[i][j] = 0\n",
    "            elif board_matrix[i][j] == 'p':\n",
    "                new_board_matrix[i][j] = 1\n",
    "            elif board_matrix[i][j] == 'n':\n",
    "                new_board_matrix[i][j] = 3\n",
    "            elif board_matrix[i][j] == 'b':\n",
    "                new_board_matrix[i][j] = 3\n",
    "            elif board_matrix[i][j] == 'r':\n",
    "                new_board_matrix[i][j] = 5\n",
    "            elif board_matrix[i][j] == 'q':\n",
    "                new_board_matrix[i][j] = 9\n",
    "            elif board_matrix[i][j] == 'k':\n",
    "                new_board_matrix[i][j] = 10\n",
    "    return new_board_matrix\n"
   ]
  },
  {
   "cell_type": "code",
   "execution_count": null,
   "metadata": {},
   "outputs": [],
   "source": [
    "def label_helper(board_state):\n",
    "    board_matrix = get_board_matrix(board_state)\n",
    "    if check_turn(board_state) == 'w':\n",
    "       board_matrix = label_encode_for_black(board_matrix)\n",
    "    elif check_turn(board_state) == 'b':\n",
    "       board_matrix = label_encode_for_white(board_matrix)\n",
    "    return board_matrix\n",
    "        "
   ]
  },
  {
   "cell_type": "code",
   "execution_count": null,
   "metadata": {},
   "outputs": [],
   "source": [
    "# new label encoding\n",
    "def label_encode_game_based_on_turn(game):\n",
    "    board = game.board()\n",
    "    moves = get_moves(game)\n",
    "    encoded_moves = []\n",
    "    for move in moves:\n",
    "        board.push(move)\n",
    "        board_state = board.fen()\n",
    "        # encoded_moves.append(le.fit_transform(get_board_matrix(board.fen()).flatten()))\n",
    "        encoded_moves.append(label_helper(board_state).flatten())\n",
    "    return encoded_moves"
   ]
  },
  {
   "cell_type": "code",
   "execution_count": 18,
   "metadata": {},
   "outputs": [
    {
     "name": "stdout",
     "output_type": "stream",
     "text": [
      "1/1 [==============================] - 0s 31ms/step\n",
      "0\n",
      "[[0.29778895 0.14795862 0.21430439 0.05152515 0.12829638 0.06799115\n",
      "  0.01971993 0.03686675 0.01104552 0.00257886 0.00189    0.00111389\n",
      "  0.0033127  0.00279251 0.01281521]]\n"
     ]
    }
   ],
   "source": [
    "# play chess\n",
    "import chess\n",
    "import chess.svg\n",
    "import random\n",
    "\n",
    "board = chess.Board()\n",
    "board\n",
    "\n",
    "# play against the model\n",
    "while not board.is_game_over():\n",
    "\n",
    "    # get the best move from the model\n",
    "    x = np.array([label_helper(board.fen()).flatten()])\n",
    "    y = model.predict(x)[0]\n",
    "    best_move = np.argmax(y)\n",
    "    print('best move:', best_move, y[best_move])\n",
    "\n",
    "    # play the best move\n",
    "    legal_moves = [move for move in board.legal_moves]\n",
    "    board.push(legal_moves[best_move])\n",
    "\n",
    "    # print the board\n",
    "    print(board)\n",
    "\n",
    "    # get the human move\n",
    "    human_move = input('Your move: ')\n",
    "\n",
    "    # play the human move\n",
    "    try:\n",
    "        board.push_san(human_move)\n",
    "    except:\n",
    "        print('Illegal move')\n",
    "\n",
    "    # print the board\n",
    "    print(board)"
   ]
  },
  {
   "cell_type": "code",
   "execution_count": null,
   "metadata": {},
   "outputs": [],
   "source": []
  }
 ],
 "metadata": {
  "kernelspec": {
   "display_name": "Python 3",
   "language": "python",
   "name": "python3"
  },
  "language_info": {
   "codemirror_mode": {
    "name": "ipython",
    "version": 3
   },
   "file_extension": ".py",
   "mimetype": "text/x-python",
   "name": "python",
   "nbconvert_exporter": "python",
   "pygments_lexer": "ipython3",
   "version": "3.10.1"
  },
  "orig_nbformat": 4
 },
 "nbformat": 4,
 "nbformat_minor": 2
}
