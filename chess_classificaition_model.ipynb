{
  "nbformat": 4,
  "nbformat_minor": 0,
  "metadata": {
    "colab": {
      "provenance": [],
      "mount_file_id": "1-6TqXSz5iMKjAIBdpt_zDpWyzZX2JkC-",
      "authorship_tag": "ABX9TyM+5zlJLVO8xLagqogl21/r",
      "include_colab_link": true
    },
    "kernelspec": {
      "name": "python3",
      "display_name": "Python 3"
    },
    "language_info": {
      "name": "python"
    },
    "accelerator": "TPU",
    "gpuClass": "standard"
  },
  "cells": [
    {
      "cell_type": "markdown",
      "metadata": {
        "id": "view-in-github",
        "colab_type": "text"
      },
      "source": [
        "<a href=\"https://colab.research.google.com/github/SulemanHamdani/CagnusMarlsen/blob/master/chess_classificaition_model.ipynb\" target=\"_parent\"><img src=\"https://colab.research.google.com/assets/colab-badge.svg\" alt=\"Open In Colab\"/></a>"
      ]
    },
    {
      "cell_type": "code",
      "source": [
        "# !pip install -q --upgrade ipython\n",
        "# !pip install -q --upgrade ipykernel"
      ],
      "metadata": {
        "colab": {
          "base_uri": "https://localhost:8080/"
        },
        "id": "WFzUmkS4C2ZL",
        "outputId": "3d48cef1-6b5f-4129-f0ad-195e45dcd7f6"
      },
      "execution_count": null,
      "outputs": [
        {
          "output_type": "stream",
          "name": "stdout",
          "text": [
            "\u001b[2K     \u001b[90m━━━━━━━━━━━━━━━━━━━━━━━━━━━━━━━━━━━━━━\u001b[0m \u001b[32m797.6/797.6 kB\u001b[0m \u001b[31m28.1 MB/s\u001b[0m eta \u001b[36m0:00:00\u001b[0m\n",
            "\u001b[2K     \u001b[90m━━━━━━━━━━━━━━━━━━━━━━━━━━━━━━━━━━━━━━━━\u001b[0m \u001b[32m1.6/1.6 MB\u001b[0m \u001b[31m65.0 MB/s\u001b[0m eta \u001b[36m0:00:00\u001b[0m\n",
            "\u001b[?25h\u001b[31mERROR: pip's dependency resolver does not currently take into account all the packages that are installed. This behaviour is the source of the following dependency conflicts.\n",
            "google-colab 1.0.0 requires ipython~=7.34.0, but you have ipython 8.13.1 which is incompatible.\u001b[0m\u001b[31m\n",
            "\u001b[2K     \u001b[90m━━━━━━━━━━━━━━━━━━━━━━━━━━━━━━━━━━━━━━━\u001b[0m \u001b[32m150.0/150.0 kB\u001b[0m \u001b[31m8.5 MB/s\u001b[0m eta \u001b[36m0:00:00\u001b[0m\n",
            "\u001b[?25h\u001b[31mERROR: pip's dependency resolver does not currently take into account all the packages that are installed. This behaviour is the source of the following dependency conflicts.\n",
            "google-colab 1.0.0 requires ipykernel~=5.5.6, but you have ipykernel 6.22.0 which is incompatible.\n",
            "google-colab 1.0.0 requires ipython~=7.34.0, but you have ipython 8.13.1 which is incompatible.\u001b[0m\u001b[31m\n",
            "\u001b[0m"
          ]
        }
      ]
    },
    {
      "cell_type": "code",
      "execution_count": 7,
      "metadata": {
        "id": "t4OuT6npiVQJ"
      },
      "outputs": [],
      "source": [
        "import numpy as np\n",
        "import matplotlib.pyplot as plt\n",
        "\n",
        "# load data\n",
        "x = np.load('/content/drive/MyDrive/x_new.npy').reshape(-1,64)\n",
        "y = np.load('/content/drive/MyDrive/y_new.npy')"
      ]
    },
    {
      "cell_type": "code",
      "source": [
        "winning_labels = [f\"Winning-{i}\" for i in range(1, 8)]\n",
        "losing_labels = [f\"Losing-{i}\" for i in range(1, 8)]\n",
        "draw_label = \"Draw\"\n",
        "\n",
        "# Initialize the label list\n",
        "labels = []\n",
        "\n",
        "# Assign labels based on the evaluation values\n",
        "for i in range(len(y)):\n",
        "    if y[i] > 1.5:\n",
        "        labels.append(winning_labels[min(int((y[i]-1.5)/1), 6)])\n",
        "    elif y[i] < -1.5:\n",
        "        labels.append(losing_labels[min(int((abs(y[i])-1.5)/1), 6)])\n",
        "    else:\n",
        "        labels.append(draw_label)"
      ],
      "metadata": {
        "id": "GW3P2MVqi366"
      },
      "execution_count": 8,
      "outputs": []
    },
    {
      "cell_type": "code",
      "source": [
        "labels = np.array(labels)\n",
        "for i in range(len(labels)):\n",
        "    if labels[i].startswith('Winning'):\n",
        "        labels[i] = int(labels[i].split('-')[1])\n",
        "    elif labels[i].startswith('Losing'):\n",
        "        labels[i] = -int(labels[i].split('-')[1])\n",
        "    elif labels[i] == 'Draw':\n",
        "        labels[i] = 0"
      ],
      "metadata": {
        "id": "SqARxFMmBnpw"
      },
      "execution_count": 9,
      "outputs": []
    },
    {
      "cell_type": "code",
      "source": [
        "import numpy as np\n",
        "import tensorflow as tf\n",
        "from sklearn.model_selection import train_test_split\n",
        "import matplotlib.pyplot as plt\n",
        "\n",
        "# Convert labels to one-hot encoded vectors\n",
        "y_one_hot = tf.keras.utils.to_categorical(labels, num_classes=15)\n",
        "\n",
        "# Define the batch size\n",
        "batch_size = 256\n",
        "\n",
        "# Calculate the number of batches\n",
        "num_batches = len(x) // batch_size\n",
        "\n",
        "# Define the model\n",
        "model = tf.keras.Sequential([\n",
        "    tf.keras.layers.Dense(2048, activation='elu', input_shape=(64,)),\n",
        "    tf.keras.layers.Dense(2048, activation='elu'),\n",
        "    tf.keras.layers.Dense(1050, activation='elu'),\n",
        "    tf.keras.layers.Dense(15, activation='softmax')\n",
        "])\n",
        "\n",
        "# Compile the model\n",
        "model.compile(optimizer='adam', loss='categorical_crossentropy', metrics=['accuracy'])\n",
        "\n",
        "# Train the model in batches\n",
        "hist = {'loss': [], 'val_loss': []}\n",
        "for i in range(num_batches):\n",
        "    start_index = i * batch_size\n",
        "    end_index = (i + 1) * batch_size\n",
        "    batch_x = x[start_index:end_index]\n",
        "    batch_y = y_one_hot[start_index:end_index]\n",
        "    batch_hist = model.train_on_batch(batch_x, batch_y)\n",
        "    hist['loss'].append(batch_hist[0])\n",
        "    hist['val_loss'].append(batch_hist[1])\n",
        "    if i % 100 == 0:\n",
        "        print(f'Batch {i+1}/{num_batches} - loss: {batch_hist[0]:.4f} - accuracy: {batch_hist[1]:.4f}')\n",
        "\n",
        "# Handle any remaining data that may not fit into a batch of size batch_size\n",
        "if len(x) % batch_size != 0:\n",
        "    start_index = num_batches * batch_size\n",
        "    end_index = len(x)\n",
        "    batch_x = x[start_index:end_index]\n",
        "    batch_y = y_one_hot[start_index:end_index]\n",
        "    batch_hist = model.train_on_batch(batch_x, batch_y)\n",
        "    hist['loss'].append(batch_hist[0])\n",
        "    hist['val_loss'].append(batch_hist[1])\n",
        "    print(f'Batch {num_batches+1}/{num_batches+1} - loss: {batch_hist[0]:.4f} - accuracy: {batch_hist[1]:.4f}')\n",
        "\n",
        "# Plot the loss\n",
        "plt.plot(hist['loss'])\n",
        "plt.plot(hist['val_loss'])\n",
        "plt.title('Loss')\n",
        "plt.xlabel('Batch')\n",
        "plt.ylabel('Loss')\n",
        "plt.legend(['Train', 'Val'], loc='upper right')\n",
        "plt.show()\n"
      ],
      "metadata": {
        "colab": {
          "base_uri": "https://localhost:8080/",
          "height": 1000
        },
        "id": "DqYUJZSLbWcS",
        "outputId": "9fde03c7-d74d-43d8-aed9-ec63b047f7fe"
      },
      "execution_count": 11,
      "outputs": [
        {
          "output_type": "stream",
          "name": "stdout",
          "text": [
            "Batch 1/50617 - loss: 2.8736 - accuracy: 0.0508\n",
            "Batch 101/50617 - loss: 1.5962 - accuracy: 0.5352\n",
            "Batch 201/50617 - loss: 0.9538 - accuracy: 0.6055\n",
            "Batch 301/50617 - loss: 1.1664 - accuracy: 0.7070\n",
            "Batch 401/50617 - loss: 1.1717 - accuracy: 0.4531\n",
            "Batch 501/50617 - loss: 1.0323 - accuracy: 0.5977\n",
            "Batch 601/50617 - loss: 1.2011 - accuracy: 0.5625\n",
            "Batch 701/50617 - loss: 1.2322 - accuracy: 0.4336\n",
            "Batch 801/50617 - loss: 1.1608 - accuracy: 0.3516\n",
            "Batch 901/50617 - loss: 0.9460 - accuracy: 0.5898\n",
            "Batch 1001/50617 - loss: 1.1636 - accuracy: 0.4766\n",
            "Batch 1101/50617 - loss: 1.5801 - accuracy: 0.0234\n",
            "Batch 1201/50617 - loss: 1.0133 - accuracy: 0.5195\n",
            "Batch 1301/50617 - loss: 1.0302 - accuracy: 0.4766\n",
            "Batch 1401/50617 - loss: 1.5532 - accuracy: 0.2969\n",
            "Batch 1501/50617 - loss: 0.8980 - accuracy: 0.6172\n",
            "Batch 1601/50617 - loss: 1.0382 - accuracy: 0.5039\n",
            "Batch 1701/50617 - loss: 1.0326 - accuracy: 0.4414\n",
            "Batch 1801/50617 - loss: 1.1478 - accuracy: 0.5039\n",
            "Batch 1901/50617 - loss: 1.3173 - accuracy: 0.3516\n",
            "Batch 2001/50617 - loss: 1.1348 - accuracy: 0.5664\n",
            "Batch 2101/50617 - loss: 1.1014 - accuracy: 0.4336\n",
            "Batch 2201/50617 - loss: 0.8181 - accuracy: 0.6797\n",
            "Batch 2301/50617 - loss: 0.9931 - accuracy: 0.6055\n",
            "Batch 2401/50617 - loss: 0.6409 - accuracy: 0.8711\n",
            "Batch 2501/50617 - loss: 1.2053 - accuracy: 0.5195\n",
            "Batch 2601/50617 - loss: 1.1985 - accuracy: 0.4883\n",
            "Batch 2701/50617 - loss: 1.0956 - accuracy: 0.6016\n",
            "Batch 2801/50617 - loss: 1.8609 - accuracy: 0.2461\n",
            "Batch 2901/50617 - loss: 1.0407 - accuracy: 0.5469\n",
            "Batch 3001/50617 - loss: 1.3740 - accuracy: 0.3711\n",
            "Batch 3101/50617 - loss: 1.4145 - accuracy: 0.4219\n",
            "Batch 3201/50617 - loss: 1.0158 - accuracy: 0.5312\n",
            "Batch 3301/50617 - loss: 1.0063 - accuracy: 0.5117\n",
            "Batch 3401/50617 - loss: 0.8051 - accuracy: 0.6211\n",
            "Batch 3501/50617 - loss: 1.6308 - accuracy: 0.1953\n",
            "Batch 3601/50617 - loss: 0.9971 - accuracy: 0.5508\n",
            "Batch 3701/50617 - loss: 1.3094 - accuracy: 0.3047\n",
            "Batch 3801/50617 - loss: 1.0278 - accuracy: 0.6992\n",
            "Batch 3901/50617 - loss: 1.1476 - accuracy: 0.5234\n",
            "Batch 4001/50617 - loss: 1.0587 - accuracy: 0.5781\n",
            "Batch 4101/50617 - loss: 1.2392 - accuracy: 0.3828\n",
            "Batch 4201/50617 - loss: 1.4303 - accuracy: 0.4414\n",
            "Batch 4301/50617 - loss: 0.9344 - accuracy: 0.6914\n",
            "Batch 4401/50617 - loss: 1.1195 - accuracy: 0.3984\n",
            "Batch 4501/50617 - loss: 1.0741 - accuracy: 0.4805\n",
            "Batch 4601/50617 - loss: 0.9732 - accuracy: 0.6562\n",
            "Batch 4701/50617 - loss: 1.0701 - accuracy: 0.5039\n",
            "Batch 4801/50617 - loss: 1.0073 - accuracy: 0.6719\n",
            "Batch 4901/50617 - loss: 1.0799 - accuracy: 0.5742\n",
            "Batch 5001/50617 - loss: 1.1835 - accuracy: 0.4375\n",
            "Batch 5101/50617 - loss: 0.5595 - accuracy: 0.9375\n",
            "Batch 5201/50617 - loss: 1.0298 - accuracy: 0.5508\n",
            "Batch 5301/50617 - loss: 0.8961 - accuracy: 0.5898\n",
            "Batch 5401/50617 - loss: 1.3591 - accuracy: 0.3398\n",
            "Batch 5501/50617 - loss: 0.9294 - accuracy: 0.6875\n",
            "Batch 5601/50617 - loss: 0.9516 - accuracy: 0.6602\n",
            "Batch 5701/50617 - loss: 1.2763 - accuracy: 0.2734\n",
            "Batch 5801/50617 - loss: 0.9225 - accuracy: 0.4570\n",
            "Batch 5901/50617 - loss: 1.0533 - accuracy: 0.5352\n",
            "Batch 6001/50617 - loss: 1.2095 - accuracy: 0.3672\n",
            "Batch 6101/50617 - loss: 1.1975 - accuracy: 0.6289\n",
            "Batch 6201/50617 - loss: 1.2477 - accuracy: 0.3203\n",
            "Batch 6301/50617 - loss: 1.0462 - accuracy: 0.4688\n",
            "Batch 6401/50617 - loss: 1.2083 - accuracy: 0.5156\n",
            "Batch 6501/50617 - loss: 1.4142 - accuracy: 0.3516\n",
            "Batch 6601/50617 - loss: 0.6780 - accuracy: 0.7969\n",
            "Batch 6701/50617 - loss: 0.9577 - accuracy: 0.6836\n",
            "Batch 6801/50617 - loss: 1.3083 - accuracy: 0.5234\n",
            "Batch 6901/50617 - loss: 0.9604 - accuracy: 0.4766\n",
            "Batch 7001/50617 - loss: 1.1570 - accuracy: 0.2422\n",
            "Batch 7101/50617 - loss: 0.8296 - accuracy: 0.7383\n",
            "Batch 7201/50617 - loss: 1.0483 - accuracy: 0.6055\n",
            "Batch 7301/50617 - loss: 0.9716 - accuracy: 0.5547\n",
            "Batch 7401/50617 - loss: 0.7627 - accuracy: 0.7812\n",
            "Batch 7501/50617 - loss: 1.2620 - accuracy: 0.3594\n",
            "Batch 7601/50617 - loss: 1.7611 - accuracy: 0.5039\n",
            "Batch 7701/50617 - loss: 1.0018 - accuracy: 0.6641\n",
            "Batch 7801/50617 - loss: 0.8806 - accuracy: 0.6797\n",
            "Batch 7901/50617 - loss: 1.0954 - accuracy: 0.6133\n",
            "Batch 8001/50617 - loss: 0.8373 - accuracy: 0.6094\n",
            "Batch 8101/50617 - loss: 1.0186 - accuracy: 0.4102\n",
            "Batch 8201/50617 - loss: 1.0672 - accuracy: 0.3633\n",
            "Batch 8301/50617 - loss: 1.1384 - accuracy: 0.4219\n",
            "Batch 8401/50617 - loss: 0.7991 - accuracy: 0.6523\n",
            "Batch 8501/50617 - loss: 0.8236 - accuracy: 0.5820\n",
            "Batch 8601/50617 - loss: 0.8506 - accuracy: 0.6016\n",
            "Batch 8701/50617 - loss: 0.9521 - accuracy: 0.7383\n",
            "Batch 8801/50617 - loss: 0.7654 - accuracy: 0.6641\n",
            "Batch 8901/50617 - loss: 1.3310 - accuracy: 0.4141\n",
            "Batch 9001/50617 - loss: 0.6789 - accuracy: 0.6797\n",
            "Batch 9101/50617 - loss: 0.6388 - accuracy: 0.8164\n",
            "Batch 9201/50617 - loss: 0.8721 - accuracy: 0.5703\n",
            "Batch 9301/50617 - loss: 1.1088 - accuracy: 0.5742\n",
            "Batch 9401/50617 - loss: 0.9506 - accuracy: 0.5156\n",
            "Batch 9501/50617 - loss: 0.5872 - accuracy: 0.8750\n",
            "Batch 9601/50617 - loss: 0.6823 - accuracy: 0.8008\n",
            "Batch 9701/50617 - loss: 1.2823 - accuracy: 0.3203\n",
            "Batch 9801/50617 - loss: 0.9446 - accuracy: 0.4766\n",
            "Batch 9901/50617 - loss: 1.4509 - accuracy: 0.2539\n",
            "Batch 10001/50617 - loss: 0.9776 - accuracy: 0.6602\n",
            "Batch 10101/50617 - loss: 0.7911 - accuracy: 0.7617\n",
            "Batch 10201/50617 - loss: 1.0616 - accuracy: 0.5469\n",
            "Batch 10301/50617 - loss: 1.0547 - accuracy: 0.5039\n",
            "Batch 10401/50617 - loss: 0.7407 - accuracy: 0.7109\n",
            "Batch 10501/50617 - loss: 0.8990 - accuracy: 0.7305\n",
            "Batch 10601/50617 - loss: 0.8994 - accuracy: 0.5430\n",
            "Batch 10701/50617 - loss: 1.1750 - accuracy: 0.4219\n",
            "Batch 10801/50617 - loss: 1.6281 - accuracy: 0.3984\n",
            "Batch 10901/50617 - loss: 0.7641 - accuracy: 0.7109\n",
            "Batch 11001/50617 - loss: 1.0444 - accuracy: 0.5586\n",
            "Batch 11101/50617 - loss: 1.1626 - accuracy: 0.2656\n",
            "Batch 11201/50617 - loss: 1.3153 - accuracy: 0.3125\n",
            "Batch 11301/50617 - loss: 0.7869 - accuracy: 0.6484\n",
            "Batch 11401/50617 - loss: 0.8325 - accuracy: 0.5977\n",
            "Batch 11501/50617 - loss: 0.7291 - accuracy: 0.7266\n",
            "Batch 11601/50617 - loss: 0.6435 - accuracy: 0.7500\n",
            "Batch 11701/50617 - loss: 1.1507 - accuracy: 0.5703\n",
            "Batch 11801/50617 - loss: 0.9516 - accuracy: 0.6016\n",
            "Batch 11901/50617 - loss: 1.0113 - accuracy: 0.6094\n",
            "Batch 12001/50617 - loss: 1.1474 - accuracy: 0.4648\n",
            "Batch 12101/50617 - loss: 1.1159 - accuracy: 0.5000\n",
            "Batch 12201/50617 - loss: 0.6725 - accuracy: 0.7500\n",
            "Batch 12301/50617 - loss: 1.1059 - accuracy: 0.4375\n",
            "Batch 12401/50617 - loss: 1.0218 - accuracy: 0.5703\n",
            "Batch 12501/50617 - loss: 0.7984 - accuracy: 0.7109\n",
            "Batch 12601/50617 - loss: 1.1190 - accuracy: 0.5391\n",
            "Batch 12701/50617 - loss: 1.1830 - accuracy: 0.4375\n",
            "Batch 12801/50617 - loss: 1.3095 - accuracy: 0.4141\n",
            "Batch 12901/50617 - loss: 0.9147 - accuracy: 0.5820\n",
            "Batch 13001/50617 - loss: 1.1524 - accuracy: 0.5039\n",
            "Batch 13101/50617 - loss: 1.4099 - accuracy: 0.3945\n",
            "Batch 13201/50617 - loss: 0.6893 - accuracy: 0.6875\n",
            "Batch 13301/50617 - loss: 0.4691 - accuracy: 0.8945\n",
            "Batch 13401/50617 - loss: 0.9050 - accuracy: 0.7539\n",
            "Batch 13501/50617 - loss: 0.9301 - accuracy: 0.6016\n",
            "Batch 13601/50617 - loss: 1.0814 - accuracy: 0.5742\n",
            "Batch 13701/50617 - loss: 0.7883 - accuracy: 0.6797\n",
            "Batch 13801/50617 - loss: 0.6321 - accuracy: 0.7852\n",
            "Batch 13901/50617 - loss: 1.2937 - accuracy: 0.5625\n",
            "Batch 14001/50617 - loss: 0.8613 - accuracy: 0.7461\n",
            "Batch 14101/50617 - loss: 1.1325 - accuracy: 0.5898\n",
            "Batch 14201/50617 - loss: 1.2678 - accuracy: 0.3633\n",
            "Batch 14301/50617 - loss: 1.2523 - accuracy: 0.4805\n",
            "Batch 14401/50617 - loss: 1.3841 - accuracy: 0.4258\n",
            "Batch 14501/50617 - loss: 1.1241 - accuracy: 0.4336\n",
            "Batch 14601/50617 - loss: 1.3546 - accuracy: 0.3477\n",
            "Batch 14701/50617 - loss: 0.9405 - accuracy: 0.6914\n",
            "Batch 14801/50617 - loss: 0.8933 - accuracy: 0.7227\n",
            "Batch 14901/50617 - loss: 0.8642 - accuracy: 0.6211\n",
            "Batch 15001/50617 - loss: 0.8136 - accuracy: 0.6328\n",
            "Batch 15101/50617 - loss: 1.8057 - accuracy: 0.3477\n",
            "Batch 15201/50617 - loss: 0.9504 - accuracy: 0.6914\n",
            "Batch 15301/50617 - loss: 0.7719 - accuracy: 0.7695\n",
            "Batch 15401/50617 - loss: 1.4908 - accuracy: 0.5117\n",
            "Batch 15501/50617 - loss: 0.8450 - accuracy: 0.6758\n",
            "Batch 15601/50617 - loss: 0.9309 - accuracy: 0.6562\n",
            "Batch 15701/50617 - loss: 0.8489 - accuracy: 0.6250\n",
            "Batch 15801/50617 - loss: 1.0253 - accuracy: 0.6836\n",
            "Batch 15901/50617 - loss: 0.7177 - accuracy: 0.7656\n",
            "Batch 16001/50617 - loss: 0.7159 - accuracy: 0.7461\n",
            "Batch 16101/50617 - loss: 0.9762 - accuracy: 0.6172\n",
            "Batch 16201/50617 - loss: 0.6793 - accuracy: 0.7539\n",
            "Batch 16301/50617 - loss: 1.0107 - accuracy: 0.6328\n",
            "Batch 16401/50617 - loss: 0.9336 - accuracy: 0.6445\n",
            "Batch 16501/50617 - loss: 0.9230 - accuracy: 0.6953\n",
            "Batch 16601/50617 - loss: 0.6135 - accuracy: 0.8008\n",
            "Batch 16701/50617 - loss: 0.8874 - accuracy: 0.6484\n",
            "Batch 16801/50617 - loss: 1.1278 - accuracy: 0.5820\n",
            "Batch 16901/50617 - loss: 0.5010 - accuracy: 0.8125\n",
            "Batch 17001/50617 - loss: 0.6481 - accuracy: 0.8438\n",
            "Batch 17101/50617 - loss: 1.0911 - accuracy: 0.5664\n",
            "Batch 17201/50617 - loss: 0.8705 - accuracy: 0.6289\n",
            "Batch 17301/50617 - loss: 0.7321 - accuracy: 0.7539\n",
            "Batch 17401/50617 - loss: 0.9654 - accuracy: 0.6445\n",
            "Batch 17501/50617 - loss: 1.3994 - accuracy: 0.3945\n",
            "Batch 17601/50617 - loss: 0.9724 - accuracy: 0.6094\n",
            "Batch 17701/50617 - loss: 0.6664 - accuracy: 0.7305\n",
            "Batch 17801/50617 - loss: 1.3669 - accuracy: 0.3555\n",
            "Batch 17901/50617 - loss: 1.2962 - accuracy: 0.4375\n",
            "Batch 18001/50617 - loss: 0.8962 - accuracy: 0.6250\n",
            "Batch 18101/50617 - loss: 1.4860 - accuracy: 0.2969\n",
            "Batch 18201/50617 - loss: 0.7353 - accuracy: 0.8047\n",
            "Batch 18301/50617 - loss: 1.0552 - accuracy: 0.6250\n",
            "Batch 18401/50617 - loss: 1.2710 - accuracy: 0.4648\n",
            "Batch 18501/50617 - loss: 0.9867 - accuracy: 0.6172\n",
            "Batch 18601/50617 - loss: 1.0440 - accuracy: 0.5430\n",
            "Batch 18701/50617 - loss: 0.9145 - accuracy: 0.7070\n",
            "Batch 18801/50617 - loss: 0.9863 - accuracy: 0.5781\n",
            "Batch 18901/50617 - loss: 0.7433 - accuracy: 0.7344\n",
            "Batch 19001/50617 - loss: 0.6981 - accuracy: 0.7266\n",
            "Batch 19101/50617 - loss: 0.9596 - accuracy: 0.6094\n",
            "Batch 19201/50617 - loss: 1.2485 - accuracy: 0.4805\n",
            "Batch 19301/50617 - loss: 0.9270 - accuracy: 0.6836\n",
            "Batch 19401/50617 - loss: 1.0166 - accuracy: 0.6250\n",
            "Batch 19501/50617 - loss: 0.7626 - accuracy: 0.7500\n",
            "Batch 19601/50617 - loss: 0.9829 - accuracy: 0.5898\n",
            "Batch 19701/50617 - loss: 1.3147 - accuracy: 0.3359\n",
            "Batch 19801/50617 - loss: 1.0251 - accuracy: 0.5742\n",
            "Batch 19901/50617 - loss: 1.1025 - accuracy: 0.3984\n",
            "Batch 20001/50617 - loss: 1.3066 - accuracy: 0.5547\n",
            "Batch 20101/50617 - loss: 0.8470 - accuracy: 0.7266\n",
            "Batch 20201/50617 - loss: 0.9834 - accuracy: 0.6094\n",
            "Batch 20301/50617 - loss: 1.0921 - accuracy: 0.5742\n",
            "Batch 20401/50617 - loss: 1.0114 - accuracy: 0.5938\n",
            "Batch 20501/50617 - loss: 1.1226 - accuracy: 0.6172\n",
            "Batch 20601/50617 - loss: 1.0471 - accuracy: 0.5703\n",
            "Batch 20701/50617 - loss: 0.5723 - accuracy: 0.8242\n",
            "Batch 20801/50617 - loss: 1.3693 - accuracy: 0.3203\n",
            "Batch 20901/50617 - loss: 1.6011 - accuracy: 0.2734\n",
            "Batch 21001/50617 - loss: 0.8432 - accuracy: 0.6641\n",
            "Batch 21101/50617 - loss: 1.0042 - accuracy: 0.6094\n",
            "Batch 21201/50617 - loss: 0.9753 - accuracy: 0.6797\n",
            "Batch 21301/50617 - loss: 0.8831 - accuracy: 0.6914\n",
            "Batch 21401/50617 - loss: 1.0174 - accuracy: 0.5742\n",
            "Batch 21501/50617 - loss: 0.8404 - accuracy: 0.7188\n",
            "Batch 21601/50617 - loss: 1.0123 - accuracy: 0.5664\n",
            "Batch 21701/50617 - loss: 1.4304 - accuracy: 0.3789\n",
            "Batch 21801/50617 - loss: 0.9256 - accuracy: 0.6055\n",
            "Batch 21901/50617 - loss: 0.7526 - accuracy: 0.6328\n",
            "Batch 22001/50617 - loss: 0.6713 - accuracy: 0.8164\n",
            "Batch 22101/50617 - loss: 1.6412 - accuracy: 0.5078\n",
            "Batch 22201/50617 - loss: 1.2442 - accuracy: 0.5859\n",
            "Batch 22301/50617 - loss: 0.9636 - accuracy: 0.6406\n",
            "Batch 22401/50617 - loss: 1.3839 - accuracy: 0.4648\n",
            "Batch 22501/50617 - loss: 1.1186 - accuracy: 0.5547\n",
            "Batch 22601/50617 - loss: 0.7673 - accuracy: 0.7148\n",
            "Batch 22701/50617 - loss: 0.9359 - accuracy: 0.5977\n",
            "Batch 22801/50617 - loss: 0.6095 - accuracy: 0.8008\n",
            "Batch 22901/50617 - loss: 0.9500 - accuracy: 0.7031\n",
            "Batch 23001/50617 - loss: 0.9012 - accuracy: 0.6641\n",
            "Batch 23101/50617 - loss: 1.1988 - accuracy: 0.4844\n",
            "Batch 23201/50617 - loss: 1.0084 - accuracy: 0.6406\n",
            "Batch 23301/50617 - loss: 0.9032 - accuracy: 0.6641\n",
            "Batch 23401/50617 - loss: 3.1032 - accuracy: 0.1523\n",
            "Batch 23501/50617 - loss: 1.6954 - accuracy: 0.3867\n",
            "Batch 23601/50617 - loss: 0.9571 - accuracy: 0.6602\n",
            "Batch 23701/50617 - loss: 0.8327 - accuracy: 0.6719\n",
            "Batch 23801/50617 - loss: 0.9617 - accuracy: 0.5586\n",
            "Batch 23901/50617 - loss: 1.0990 - accuracy: 0.5000\n",
            "Batch 24001/50617 - loss: 0.7329 - accuracy: 0.7500\n",
            "Batch 24101/50617 - loss: 0.9462 - accuracy: 0.5312\n",
            "Batch 24201/50617 - loss: 1.0152 - accuracy: 0.6250\n",
            "Batch 24301/50617 - loss: 0.8873 - accuracy: 0.6953\n",
            "Batch 24401/50617 - loss: 1.0761 - accuracy: 0.6719\n",
            "Batch 24501/50617 - loss: 0.9736 - accuracy: 0.5508\n",
            "Batch 24601/50617 - loss: 0.8527 - accuracy: 0.7422\n",
            "Batch 24701/50617 - loss: 0.8403 - accuracy: 0.6250\n",
            "Batch 24801/50617 - loss: 0.8111 - accuracy: 0.7109\n",
            "Batch 24901/50617 - loss: 0.8564 - accuracy: 0.6875\n",
            "Batch 25001/50617 - loss: 1.0126 - accuracy: 0.6250\n",
            "Batch 25101/50617 - loss: 1.0146 - accuracy: 0.5703\n",
            "Batch 25201/50617 - loss: 0.9932 - accuracy: 0.6758\n",
            "Batch 25301/50617 - loss: 0.6612 - accuracy: 0.7383\n",
            "Batch 25401/50617 - loss: 1.1952 - accuracy: 0.5273\n",
            "Batch 25501/50617 - loss: 0.6531 - accuracy: 0.7695\n",
            "Batch 25601/50617 - loss: 1.0555 - accuracy: 0.6172\n",
            "Batch 25701/50617 - loss: 0.6361 - accuracy: 0.7539\n",
            "Batch 25801/50617 - loss: 0.9106 - accuracy: 0.6602\n",
            "Batch 25901/50617 - loss: 1.3082 - accuracy: 0.5156\n",
            "Batch 26001/50617 - loss: 0.5092 - accuracy: 0.9180\n",
            "Batch 26101/50617 - loss: 1.2766 - accuracy: 0.4531\n",
            "Batch 26201/50617 - loss: 1.4680 - accuracy: 0.3828\n",
            "Batch 26301/50617 - loss: 0.5512 - accuracy: 0.8867\n",
            "Batch 26401/50617 - loss: 0.9428 - accuracy: 0.5781\n",
            "Batch 26501/50617 - loss: 0.9344 - accuracy: 0.6406\n",
            "Batch 26601/50617 - loss: 0.8293 - accuracy: 0.6836\n",
            "Batch 26701/50617 - loss: 1.0562 - accuracy: 0.6406\n",
            "Batch 26801/50617 - loss: 1.0367 - accuracy: 0.6055\n",
            "Batch 26901/50617 - loss: 1.4438 - accuracy: 0.5312\n",
            "Batch 27001/50617 - loss: 0.9306 - accuracy: 0.7500\n",
            "Batch 27101/50617 - loss: 1.4927 - accuracy: 0.4922\n",
            "Batch 27201/50617 - loss: 0.9031 - accuracy: 0.6680\n",
            "Batch 27301/50617 - loss: 0.8881 - accuracy: 0.6172\n",
            "Batch 27401/50617 - loss: 0.6074 - accuracy: 0.7891\n",
            "Batch 27501/50617 - loss: 0.7952 - accuracy: 0.7383\n",
            "Batch 27601/50617 - loss: 0.7681 - accuracy: 0.7461\n",
            "Batch 27701/50617 - loss: 1.0997 - accuracy: 0.6289\n",
            "Batch 27801/50617 - loss: 1.8660 - accuracy: 0.2500\n",
            "Batch 27901/50617 - loss: 1.2017 - accuracy: 0.4844\n",
            "Batch 28001/50617 - loss: 1.6779 - accuracy: 0.3711\n",
            "Batch 28101/50617 - loss: 0.7060 - accuracy: 0.7109\n",
            "Batch 28201/50617 - loss: 0.4703 - accuracy: 0.8867\n",
            "Batch 28301/50617 - loss: 0.7494 - accuracy: 0.7734\n",
            "Batch 28401/50617 - loss: 0.9991 - accuracy: 0.5430\n",
            "Batch 28501/50617 - loss: 0.7827 - accuracy: 0.7148\n",
            "Batch 28601/50617 - loss: 0.6251 - accuracy: 0.7188\n",
            "Batch 28701/50617 - loss: 0.9156 - accuracy: 0.6328\n",
            "Batch 28801/50617 - loss: 0.8337 - accuracy: 0.6289\n",
            "Batch 28901/50617 - loss: 1.2119 - accuracy: 0.5664\n",
            "Batch 29001/50617 - loss: 1.1089 - accuracy: 0.3984\n",
            "Batch 29101/50617 - loss: 1.6945 - accuracy: 0.3945\n",
            "Batch 29201/50617 - loss: 1.3169 - accuracy: 0.4141\n",
            "Batch 29301/50617 - loss: 1.0632 - accuracy: 0.6406\n",
            "Batch 29401/50617 - loss: 1.1987 - accuracy: 0.5742\n",
            "Batch 29501/50617 - loss: 0.9601 - accuracy: 0.6406\n",
            "Batch 29601/50617 - loss: 0.9994 - accuracy: 0.6133\n",
            "Batch 29701/50617 - loss: 1.1028 - accuracy: 0.5859\n",
            "Batch 29801/50617 - loss: 1.0476 - accuracy: 0.6289\n",
            "Batch 29901/50617 - loss: 0.8760 - accuracy: 0.7227\n",
            "Batch 30001/50617 - loss: 0.8064 - accuracy: 0.7305\n",
            "Batch 30101/50617 - loss: 1.1585 - accuracy: 0.4531\n",
            "Batch 30201/50617 - loss: 1.3106 - accuracy: 0.5117\n",
            "Batch 30301/50617 - loss: 1.0352 - accuracy: 0.5430\n",
            "Batch 30401/50617 - loss: 1.6562 - accuracy: 0.3008\n",
            "Batch 30501/50617 - loss: 0.7257 - accuracy: 0.7578\n",
            "Batch 30601/50617 - loss: 1.0354 - accuracy: 0.6602\n",
            "Batch 30701/50617 - loss: 0.9368 - accuracy: 0.6836\n",
            "Batch 30801/50617 - loss: 0.9629 - accuracy: 0.5977\n",
            "Batch 30901/50617 - loss: 1.2792 - accuracy: 0.5039\n",
            "Batch 31001/50617 - loss: 0.5843 - accuracy: 0.8555\n",
            "Batch 31101/50617 - loss: 0.9016 - accuracy: 0.7266\n",
            "Batch 31201/50617 - loss: 1.0609 - accuracy: 0.5742\n",
            "Batch 31301/50617 - loss: 1.0525 - accuracy: 0.5547\n",
            "Batch 31401/50617 - loss: 0.9257 - accuracy: 0.6641\n",
            "Batch 31501/50617 - loss: 0.6752 - accuracy: 0.7500\n",
            "Batch 31601/50617 - loss: 0.8961 - accuracy: 0.6758\n",
            "Batch 31701/50617 - loss: 0.9293 - accuracy: 0.6797\n",
            "Batch 31801/50617 - loss: 0.7393 - accuracy: 0.7266\n",
            "Batch 31901/50617 - loss: 1.0180 - accuracy: 0.5352\n",
            "Batch 32001/50617 - loss: 0.8259 - accuracy: 0.7734\n",
            "Batch 32101/50617 - loss: 0.9499 - accuracy: 0.5742\n",
            "Batch 32201/50617 - loss: 1.4013 - accuracy: 0.5234\n",
            "Batch 32301/50617 - loss: 0.7416 - accuracy: 0.6758\n",
            "Batch 32401/50617 - loss: 1.0215 - accuracy: 0.5820\n",
            "Batch 32501/50617 - loss: 1.0202 - accuracy: 0.5586\n",
            "Batch 32601/50617 - loss: 1.2903 - accuracy: 0.5039\n",
            "Batch 32701/50617 - loss: 1.6095 - accuracy: 0.3633\n",
            "Batch 32801/50617 - loss: 1.3257 - accuracy: 0.4727\n",
            "Batch 32901/50617 - loss: 0.5958 - accuracy: 0.7812\n",
            "Batch 33001/50617 - loss: 0.9650 - accuracy: 0.6016\n",
            "Batch 33101/50617 - loss: 0.5439 - accuracy: 0.8359\n",
            "Batch 33201/50617 - loss: 0.7946 - accuracy: 0.7344\n",
            "Batch 33301/50617 - loss: 1.1481 - accuracy: 0.5430\n",
            "Batch 33401/50617 - loss: 0.8539 - accuracy: 0.6680\n",
            "Batch 33501/50617 - loss: 0.9139 - accuracy: 0.6523\n",
            "Batch 33601/50617 - loss: 0.9001 - accuracy: 0.6250\n",
            "Batch 33701/50617 - loss: 0.7885 - accuracy: 0.6797\n",
            "Batch 33801/50617 - loss: 0.6964 - accuracy: 0.7617\n",
            "Batch 33901/50617 - loss: 1.0805 - accuracy: 0.5703\n",
            "Batch 34001/50617 - loss: 1.1075 - accuracy: 0.4688\n",
            "Batch 34101/50617 - loss: 0.6482 - accuracy: 0.7539\n",
            "Batch 34201/50617 - loss: 0.9501 - accuracy: 0.6133\n",
            "Batch 34301/50617 - loss: 1.3729 - accuracy: 0.4023\n",
            "Batch 34401/50617 - loss: 0.8737 - accuracy: 0.6992\n",
            "Batch 34501/50617 - loss: 0.8639 - accuracy: 0.7109\n",
            "Batch 34601/50617 - loss: 1.3030 - accuracy: 0.4883\n",
            "Batch 34701/50617 - loss: 0.4721 - accuracy: 0.8164\n",
            "Batch 34801/50617 - loss: 0.7834 - accuracy: 0.6367\n",
            "Batch 34901/50617 - loss: 0.5982 - accuracy: 0.7891\n",
            "Batch 35001/50617 - loss: 0.6603 - accuracy: 0.7188\n",
            "Batch 35101/50617 - loss: 1.6910 - accuracy: 0.2812\n",
            "Batch 35201/50617 - loss: 1.2996 - accuracy: 0.4922\n",
            "Batch 35301/50617 - loss: 0.9309 - accuracy: 0.6367\n",
            "Batch 35401/50617 - loss: 1.2696 - accuracy: 0.5078\n",
            "Batch 35501/50617 - loss: 1.5355 - accuracy: 0.5000\n",
            "Batch 35601/50617 - loss: 0.6902 - accuracy: 0.7344\n",
            "Batch 35701/50617 - loss: 1.1806 - accuracy: 0.4180\n",
            "Batch 35801/50617 - loss: 1.1415 - accuracy: 0.5391\n",
            "Batch 35901/50617 - loss: 0.9298 - accuracy: 0.6133\n",
            "Batch 36001/50617 - loss: 0.6648 - accuracy: 0.7500\n",
            "Batch 36101/50617 - loss: 1.0053 - accuracy: 0.5781\n",
            "Batch 36201/50617 - loss: 0.7526 - accuracy: 0.6836\n",
            "Batch 36301/50617 - loss: 0.7684 - accuracy: 0.7344\n",
            "Batch 36401/50617 - loss: 0.8296 - accuracy: 0.7227\n",
            "Batch 36501/50617 - loss: 0.9695 - accuracy: 0.5820\n",
            "Batch 36601/50617 - loss: 0.9823 - accuracy: 0.6328\n",
            "Batch 36701/50617 - loss: 1.0521 - accuracy: 0.5469\n",
            "Batch 36801/50617 - loss: 1.1074 - accuracy: 0.5000\n",
            "Batch 36901/50617 - loss: 1.1553 - accuracy: 0.5742\n",
            "Batch 37001/50617 - loss: 1.3942 - accuracy: 0.5234\n",
            "Batch 37101/50617 - loss: 0.8964 - accuracy: 0.6367\n",
            "Batch 37201/50617 - loss: 1.1488 - accuracy: 0.5430\n",
            "Batch 37301/50617 - loss: 1.3547 - accuracy: 0.5195\n",
            "Batch 37401/50617 - loss: 0.8275 - accuracy: 0.7578\n",
            "Batch 37501/50617 - loss: 0.9808 - accuracy: 0.6055\n",
            "Batch 37601/50617 - loss: 1.0234 - accuracy: 0.5781\n",
            "Batch 37701/50617 - loss: 0.9699 - accuracy: 0.5938\n",
            "Batch 37801/50617 - loss: 1.5740 - accuracy: 0.3320\n",
            "Batch 37901/50617 - loss: 0.4431 - accuracy: 0.8047\n",
            "Batch 38001/50617 - loss: 0.7252 - accuracy: 0.7383\n",
            "Batch 38101/50617 - loss: 1.3102 - accuracy: 0.5352\n",
            "Batch 38201/50617 - loss: 0.7699 - accuracy: 0.7734\n",
            "Batch 38301/50617 - loss: 0.8316 - accuracy: 0.6758\n",
            "Batch 38401/50617 - loss: 1.3196 - accuracy: 0.4414\n",
            "Batch 38501/50617 - loss: 1.1001 - accuracy: 0.4883\n",
            "Batch 38601/50617 - loss: 0.9754 - accuracy: 0.6211\n",
            "Batch 38701/50617 - loss: 0.5361 - accuracy: 0.7656\n",
            "Batch 38801/50617 - loss: 1.8963 - accuracy: 0.3086\n",
            "Batch 38901/50617 - loss: 1.3365 - accuracy: 0.4609\n",
            "Batch 39001/50617 - loss: 0.6257 - accuracy: 0.8047\n",
            "Batch 39101/50617 - loss: 0.6367 - accuracy: 0.7930\n",
            "Batch 39201/50617 - loss: 1.1125 - accuracy: 0.5586\n",
            "Batch 39301/50617 - loss: 0.9941 - accuracy: 0.6367\n",
            "Batch 39401/50617 - loss: 1.1161 - accuracy: 0.4922\n",
            "Batch 39501/50617 - loss: 0.9290 - accuracy: 0.6367\n",
            "Batch 39601/50617 - loss: 0.6790 - accuracy: 0.7188\n",
            "Batch 39701/50617 - loss: 1.0543 - accuracy: 0.6328\n",
            "Batch 39801/50617 - loss: 0.8832 - accuracy: 0.6016\n",
            "Batch 39901/50617 - loss: 1.1166 - accuracy: 0.5586\n",
            "Batch 40001/50617 - loss: 0.9271 - accuracy: 0.5977\n",
            "Batch 40101/50617 - loss: 1.5214 - accuracy: 0.4961\n",
            "Batch 40201/50617 - loss: 0.7463 - accuracy: 0.7148\n",
            "Batch 40301/50617 - loss: 1.0689 - accuracy: 0.5117\n",
            "Batch 40401/50617 - loss: 1.2455 - accuracy: 0.5039\n",
            "Batch 40501/50617 - loss: 0.6462 - accuracy: 0.8047\n",
            "Batch 40601/50617 - loss: 1.6652 - accuracy: 0.5938\n",
            "Batch 40701/50617 - loss: 0.8209 - accuracy: 0.5938\n",
            "Batch 40801/50617 - loss: 0.9690 - accuracy: 0.5469\n",
            "Batch 40901/50617 - loss: 1.2454 - accuracy: 0.4688\n",
            "Batch 41001/50617 - loss: 0.7907 - accuracy: 0.7461\n",
            "Batch 41101/50617 - loss: 0.7910 - accuracy: 0.7188\n",
            "Batch 41201/50617 - loss: 0.7625 - accuracy: 0.7695\n",
            "Batch 41301/50617 - loss: 1.2274 - accuracy: 0.6211\n",
            "Batch 41401/50617 - loss: 0.8113 - accuracy: 0.6797\n",
            "Batch 41501/50617 - loss: 0.7107 - accuracy: 0.7227\n",
            "Batch 41601/50617 - loss: 0.4393 - accuracy: 0.8750\n",
            "Batch 41701/50617 - loss: 1.5051 - accuracy: 0.4414\n",
            "Batch 41801/50617 - loss: 1.2841 - accuracy: 0.4180\n",
            "Batch 41901/50617 - loss: 0.7186 - accuracy: 0.8164\n",
            "Batch 42001/50617 - loss: 0.6362 - accuracy: 0.8320\n",
            "Batch 42101/50617 - loss: 0.3019 - accuracy: 0.9727\n",
            "Batch 42201/50617 - loss: 0.9069 - accuracy: 0.6484\n",
            "Batch 42301/50617 - loss: 0.9809 - accuracy: 0.6641\n",
            "Batch 42401/50617 - loss: 0.4303 - accuracy: 0.8945\n",
            "Batch 42501/50617 - loss: 0.9941 - accuracy: 0.6602\n",
            "Batch 42601/50617 - loss: 0.6683 - accuracy: 0.7305\n",
            "Batch 42701/50617 - loss: 0.8602 - accuracy: 0.6641\n",
            "Batch 42801/50617 - loss: 1.0122 - accuracy: 0.5742\n",
            "Batch 42901/50617 - loss: 1.6420 - accuracy: 0.4180\n",
            "Batch 43001/50617 - loss: 1.1277 - accuracy: 0.5352\n",
            "Batch 43101/50617 - loss: 0.5774 - accuracy: 0.8789\n",
            "Batch 43201/50617 - loss: 0.4370 - accuracy: 0.8789\n",
            "Batch 43301/50617 - loss: 1.4185 - accuracy: 0.4648\n",
            "Batch 43401/50617 - loss: 0.5011 - accuracy: 0.8711\n",
            "Batch 43501/50617 - loss: 0.8692 - accuracy: 0.7148\n",
            "Batch 43601/50617 - loss: 0.4832 - accuracy: 0.8672\n",
            "Batch 43701/50617 - loss: 0.5458 - accuracy: 0.7969\n",
            "Batch 43801/50617 - loss: 0.7885 - accuracy: 0.6523\n",
            "Batch 43901/50617 - loss: 0.8860 - accuracy: 0.6758\n",
            "Batch 44001/50617 - loss: 1.1351 - accuracy: 0.5938\n",
            "Batch 44101/50617 - loss: 0.8862 - accuracy: 0.6328\n",
            "Batch 44201/50617 - loss: 0.8210 - accuracy: 0.6328\n",
            "Batch 44301/50617 - loss: 1.0367 - accuracy: 0.5820\n",
            "Batch 44401/50617 - loss: 0.4175 - accuracy: 0.8789\n",
            "Batch 44501/50617 - loss: 1.0087 - accuracy: 0.5781\n",
            "Batch 44601/50617 - loss: 1.2415 - accuracy: 0.4688\n",
            "Batch 44701/50617 - loss: 0.9682 - accuracy: 0.6211\n",
            "Batch 44801/50617 - loss: 1.1865 - accuracy: 0.5938\n",
            "Batch 44901/50617 - loss: 0.9292 - accuracy: 0.5625\n",
            "Batch 45001/50617 - loss: 0.6396 - accuracy: 0.7188\n",
            "Batch 45101/50617 - loss: 0.7536 - accuracy: 0.7227\n",
            "Batch 45201/50617 - loss: 1.0898 - accuracy: 0.6133\n",
            "Batch 45301/50617 - loss: 1.1246 - accuracy: 0.5703\n",
            "Batch 45401/50617 - loss: 0.9890 - accuracy: 0.5859\n",
            "Batch 45501/50617 - loss: 0.8672 - accuracy: 0.6484\n",
            "Batch 45601/50617 - loss: 1.2116 - accuracy: 0.4648\n",
            "Batch 45701/50617 - loss: 0.6781 - accuracy: 0.7930\n",
            "Batch 45801/50617 - loss: 0.8633 - accuracy: 0.6797\n",
            "Batch 45901/50617 - loss: 1.1931 - accuracy: 0.4805\n",
            "Batch 46001/50617 - loss: 1.0038 - accuracy: 0.5938\n",
            "Batch 46101/50617 - loss: 1.1770 - accuracy: 0.5312\n",
            "Batch 46201/50617 - loss: 1.0150 - accuracy: 0.5977\n",
            "Batch 46301/50617 - loss: 0.7663 - accuracy: 0.6367\n",
            "Batch 46401/50617 - loss: 1.0199 - accuracy: 0.6055\n",
            "Batch 46501/50617 - loss: 0.6043 - accuracy: 0.7930\n",
            "Batch 46601/50617 - loss: 1.1851 - accuracy: 0.4844\n",
            "Batch 46701/50617 - loss: 0.7592 - accuracy: 0.6523\n",
            "Batch 46801/50617 - loss: 0.6642 - accuracy: 0.7969\n",
            "Batch 46901/50617 - loss: 1.3098 - accuracy: 0.5273\n",
            "Batch 47001/50617 - loss: 1.0700 - accuracy: 0.4883\n",
            "Batch 47101/50617 - loss: 0.8965 - accuracy: 0.6602\n",
            "Batch 47201/50617 - loss: 0.8595 - accuracy: 0.7227\n",
            "Batch 47301/50617 - loss: 0.8806 - accuracy: 0.6289\n",
            "Batch 47401/50617 - loss: 0.7660 - accuracy: 0.7344\n",
            "Batch 47501/50617 - loss: 0.8362 - accuracy: 0.6016\n",
            "Batch 47601/50617 - loss: 0.8955 - accuracy: 0.6797\n",
            "Batch 47701/50617 - loss: 1.1162 - accuracy: 0.6602\n",
            "Batch 47801/50617 - loss: 1.0445 - accuracy: 0.5469\n",
            "Batch 47901/50617 - loss: 0.7575 - accuracy: 0.7383\n",
            "Batch 48001/50617 - loss: 1.4842 - accuracy: 0.3828\n",
            "Batch 48101/50617 - loss: 0.9478 - accuracy: 0.5977\n",
            "Batch 48201/50617 - loss: 0.9344 - accuracy: 0.5977\n",
            "Batch 48301/50617 - loss: 1.0007 - accuracy: 0.6055\n",
            "Batch 48401/50617 - loss: 1.2632 - accuracy: 0.4219\n",
            "Batch 48501/50617 - loss: 1.2077 - accuracy: 0.5391\n",
            "Batch 48601/50617 - loss: 0.9093 - accuracy: 0.6094\n",
            "Batch 48701/50617 - loss: 1.1087 - accuracy: 0.6133\n",
            "Batch 48801/50617 - loss: 0.7258 - accuracy: 0.7148\n",
            "Batch 48901/50617 - loss: 1.0698 - accuracy: 0.5195\n",
            "Batch 49001/50617 - loss: 0.6194 - accuracy: 0.7227\n",
            "Batch 49101/50617 - loss: 1.9527 - accuracy: 0.3359\n",
            "Batch 49201/50617 - loss: 1.2494 - accuracy: 0.4844\n",
            "Batch 49301/50617 - loss: 0.8346 - accuracy: 0.6406\n",
            "Batch 49401/50617 - loss: 0.8558 - accuracy: 0.6250\n",
            "Batch 49501/50617 - loss: 0.6483 - accuracy: 0.7812\n",
            "Batch 49601/50617 - loss: 1.4160 - accuracy: 0.5273\n",
            "Batch 49701/50617 - loss: 1.0695 - accuracy: 0.5195\n",
            "Batch 49801/50617 - loss: 0.6991 - accuracy: 0.7930\n",
            "Batch 49901/50617 - loss: 1.1243 - accuracy: 0.4922\n",
            "Batch 50001/50617 - loss: 0.8858 - accuracy: 0.6250\n",
            "Batch 50101/50617 - loss: 1.1711 - accuracy: 0.5195\n",
            "Batch 50201/50617 - loss: 1.1633 - accuracy: 0.4453\n",
            "Batch 50301/50617 - loss: 0.9110 - accuracy: 0.6367\n",
            "Batch 50401/50617 - loss: 1.0128 - accuracy: 0.5586\n",
            "Batch 50501/50617 - loss: 0.6781 - accuracy: 0.6992\n",
            "Batch 50601/50617 - loss: 0.7881 - accuracy: 0.7383\n",
            "Batch 50618/50618 - loss: 0.4547 - accuracy: 0.8193\n"
          ]
        },
        {
          "output_type": "display_data",
          "data": {
            "text/plain": [
              "<Figure size 640x480 with 1 Axes>"
            ],
            "image/png": "[encoded data removed]"
          },
          "metadata": {}
        }
      ]
    },
    {
      "cell_type": "code",
      "source": [
        "#import load_model\n",
        "from tensorflow.keras.models import load_model\n",
        "\n",
        "# Save the model\n",
        "model.save('chessengine_13M.h5')"
      ],
      "metadata": {
        "id": "IxznEUsYkqgd"
      },
      "execution_count": 12,
      "outputs": []
    },
    {
      "cell_type": "code",
      "source": [],
      "metadata": {
        "id": "MGztVQYam6pA"
      },
      "execution_count": null,
      "outputs": []
    },
    {
      "cell_type": "markdown",
      "source": [
        "# New Section"
      ],
      "metadata": {
        "id": "J5A3oM4JjAEK"
      }
    },
    {
      "cell_type": "markdown",
      "source": [
        "# New Section"
      ],
      "metadata": {
        "id": "IWJbKVmSjOq9"
      }
    },
    {
      "cell_type": "markdown",
      "source": [
        "# New Section"
      ],
      "metadata": {
        "id": "9O2mX4hMjdUe"
      }
    },
    {
      "cell_type": "markdown",
      "source": [
        "# New Section"
      ],
      "metadata": {
        "id": "jM7uPm-ujr9_"
      }
    },
    {
      "cell_type": "markdown",
      "source": [
        "# New Section"
      ],
      "metadata": {
        "id": "36niY1tsj6ne"
      }
    },
    {
      "cell_type": "markdown",
      "source": [
        "# New Section"
      ],
      "metadata": {
        "id": "wLNp_X75kJTg"
      }
    },
    {
      "cell_type": "markdown",
      "source": [
        "# New Section"
      ],
      "metadata": {
        "id": "vtix20zOkZSF"
      }
    },
    {
      "cell_type": "markdown",
      "source": [
        "# New Section"
      ],
      "metadata": {
        "id": "D7tkPiKMkmjv"
      }
    },
    {
      "cell_type": "markdown",
      "source": [
        "# New Section"
      ],
      "metadata": {
        "id": "YvMKy2O5k1NP"
      }
    },
    {
      "cell_type": "markdown",
      "source": [
        "# New Section"
      ],
      "metadata": {
        "id": "a5bWGJotlD2x"
      }
    },
    {
      "cell_type": "markdown",
      "source": [
        "# New Section"
      ],
      "metadata": {
        "id": "bn9o65DolSgW"
      }
    },
    {
      "cell_type": "markdown",
      "source": [
        "# New Section"
      ],
      "metadata": {
        "id": "2-UfYJ4DlhJx"
      }
    },
    {
      "cell_type": "markdown",
      "source": [
        "# New Section"
      ],
      "metadata": {
        "id": "aEBH3xYJlvzY"
      }
    },
    {
      "cell_type": "markdown",
      "source": [
        "# New Section"
      ],
      "metadata": {
        "id": "P9T572-Jl-c3"
      }
    },
    {
      "cell_type": "markdown",
      "source": [
        "# New Section"
      ],
      "metadata": {
        "id": "Y9eRTMzbmNGa"
      }
    },
    {
      "cell_type": "markdown",
      "source": [
        "# New Section"
      ],
      "metadata": {
        "id": "H0Qkg7Zhmbv0"
      }
    },
    {
      "cell_type": "markdown",
      "source": [
        "# New Section"
      ],
      "metadata": {
        "id": "Np05s3rJmqZQ"
      }
    },
    {
      "cell_type": "markdown",
      "source": [
        "# New Section"
      ],
      "metadata": {
        "id": "easJ2JYKm5Cy"
      }
    },
    {
      "cell_type": "markdown",
      "source": [
        "# New Section"
      ],
      "metadata": {
        "id": "R3sMdO25nHsQ"
      }
    },
    {
      "cell_type": "markdown",
      "source": [
        "# New Section"
      ],
      "metadata": {
        "id": "rg7wH2OlnWVz"
      }
    },
    {
      "cell_type": "markdown",
      "source": [
        "# New Section"
      ],
      "metadata": {
        "id": "svEJ7Hccnk_a"
      }
    },
    {
      "cell_type": "markdown",
      "source": [
        "# New Section"
      ],
      "metadata": {
        "id": "8HcY2x4Dnzo6"
      }
    },
    {
      "cell_type": "markdown",
      "source": [
        "# New Section"
      ],
      "metadata": {
        "id": "1-78vNzLoCSX"
      }
    },
    {
      "cell_type": "markdown",
      "source": [
        "# New Section"
      ],
      "metadata": {
        "id": "6XrHxKlCoQ71"
      }
    },
    {
      "cell_type": "markdown",
      "source": [
        "# New Section"
      ],
      "metadata": {
        "id": "Le795u7coflc"
      }
    },
    {
      "cell_type": "markdown",
      "source": [
        "# New Section"
      ],
      "metadata": {
        "id": "IweK2BCbouO2"
      }
    },
    {
      "cell_type": "markdown",
      "source": [
        "# New Section"
      ],
      "metadata": {
        "id": "VvjfdlQko84b"
      }
    },
    {
      "cell_type": "markdown",
      "source": [
        "# New Section"
      ],
      "metadata": {
        "id": "4kZsZGzFpLh-"
      }
    },
    {
      "cell_type": "markdown",
      "source": [
        "# New Section"
      ],
      "metadata": {
        "id": "lUL7MngopaLf"
      }
    },
    {
      "cell_type": "markdown",
      "source": [
        "# New Section"
      ],
      "metadata": {
        "id": "Qs0G875Mpo05"
      }
    },
    {
      "cell_type": "markdown",
      "source": [
        "# New Section"
      ],
      "metadata": {
        "id": "qj4adMf6p3eW"
      }
    },
    {
      "cell_type": "markdown",
      "source": [
        "# New Section"
      ],
      "metadata": {
        "id": "zyHFiDkRqGKn"
      }
    },
    {
      "cell_type": "markdown",
      "source": [
        "# New Section"
      ],
      "metadata": {
        "id": "xmCn6dk1qUxX"
      }
    },
    {
      "cell_type": "markdown",
      "source": [
        "# New Section"
      ],
      "metadata": {
        "id": "sI-gDS8Bqja1"
      }
    },
    {
      "cell_type": "markdown",
      "source": [
        "# New Section"
      ],
      "metadata": {
        "id": "drNszDsPqyEU"
      }
    },
    {
      "cell_type": "markdown",
      "source": [
        "# New Section"
      ],
      "metadata": {
        "id": "SBWkTsmHrAt-"
      }
    },
    {
      "cell_type": "markdown",
      "source": [
        "# New Section"
      ],
      "metadata": {
        "id": "zSYAXbBUrPXR"
      }
    },
    {
      "cell_type": "markdown",
      "source": [
        "# New Section"
      ],
      "metadata": {
        "id": "wpiRPGSxreA5"
      }
    },
    {
      "cell_type": "markdown",
      "source": [
        "# New Section"
      ],
      "metadata": {
        "id": "2kalDkCIrsqT"
      }
    },
    {
      "cell_type": "markdown",
      "source": [
        "# New Section"
      ],
      "metadata": {
        "id": "2FzpCB_Sr7Tz"
      }
    },
    {
      "cell_type": "markdown",
      "source": [
        "# New Section"
      ],
      "metadata": {
        "id": "Zm3_QWyrsJ9Y"
      }
    },
    {
      "cell_type": "markdown",
      "source": [
        "# New Section"
      ],
      "metadata": {
        "id": "FgD5xAmDsYm7"
      }
    },
    {
      "cell_type": "markdown",
      "source": [
        "# New Section"
      ],
      "metadata": {
        "id": "lwQtQRISsnQb"
      }
    },
    {
      "cell_type": "markdown",
      "source": [
        "# New Section"
      ],
      "metadata": {
        "id": "Cr1SVfeSs15z"
      }
    },
    {
      "cell_type": "markdown",
      "source": [
        "# New Section"
      ],
      "metadata": {
        "id": "wv1K3p4htEjT"
      }
    },
    {
      "cell_type": "markdown",
      "source": [
        "# New Section"
      ],
      "metadata": {
        "id": "KzwOtcXbtTM8"
      }
    },
    {
      "cell_type": "markdown",
      "source": [
        "# New Section"
      ],
      "metadata": {
        "id": "JCg__uxfth2V"
      }
    },
    {
      "cell_type": "markdown",
      "source": [
        "# New Section"
      ],
      "metadata": {
        "id": "lnGf8_ABtwf7"
      }
    },
    {
      "cell_type": "markdown",
      "source": [
        "# New Section"
      ],
      "metadata": {
        "id": "vY5OJzGqt_Jd"
      }
    },
    {
      "cell_type": "markdown",
      "source": [
        "# New Section"
      ],
      "metadata": {
        "id": "b_tSmP23uNy3"
      }
    },
    {
      "cell_type": "markdown",
      "source": [
        "# New Section"
      ],
      "metadata": {
        "id": "4AMZQDVHucce"
      }
    },
    {
      "cell_type": "markdown",
      "source": [
        "# New Section"
      ],
      "metadata": {
        "id": "pasexrVgurF6"
      }
    },
    {
      "cell_type": "markdown",
      "source": [
        "# New Section"
      ],
      "metadata": {
        "id": "xYsQXns6u5vf"
      }
    },
    {
      "cell_type": "markdown",
      "source": [
        "# New Section"
      ],
      "metadata": {
        "id": "CMWEGZJnvIY5"
      }
    },
    {
      "cell_type": "markdown",
      "source": [
        "# New Section"
      ],
      "metadata": {
        "id": "GsjDi3RkvXCS"
      }
    },
    {
      "cell_type": "markdown",
      "source": [
        "# New Section"
      ],
      "metadata": {
        "id": "1AEnlUR0vlr3"
      }
    },
    {
      "cell_type": "markdown",
      "source": [
        "# New Section"
      ],
      "metadata": {
        "id": "8-6KGjSzv0VR"
      }
    },
    {
      "cell_type": "markdown",
      "source": [
        "# New Section"
      ],
      "metadata": {
        "id": "uTy8mFq2wC-3"
      }
    },
    {
      "cell_type": "markdown",
      "source": [
        "# New Section"
      ],
      "metadata": {
        "id": "2MhPmyjhwRoa"
      }
    },
    {
      "cell_type": "markdown",
      "source": [
        "# New Section"
      ],
      "metadata": {
        "id": "hxqfla5xwgRy"
      }
    },
    {
      "cell_type": "markdown",
      "source": [
        "# New Section"
      ],
      "metadata": {
        "id": "oPrX7v1Mwu7S"
      }
    },
    {
      "cell_type": "markdown",
      "source": [
        "# New Section"
      ],
      "metadata": {
        "id": "8DICdo5ow9ky"
      }
    },
    {
      "cell_type": "markdown",
      "source": [
        "# New Section"
      ],
      "metadata": {
        "id": "uCj-hP3CxMOZ"
      }
    },
    {
      "cell_type": "markdown",
      "source": [
        "# New Section"
      ],
      "metadata": {
        "id": "QjkgZzVKxa35"
      }
    },
    {
      "cell_type": "markdown",
      "source": [
        "# New Section"
      ],
      "metadata": {
        "id": "mS2nSbaMxphT"
      }
    },
    {
      "cell_type": "markdown",
      "source": [
        "# New Section"
      ],
      "metadata": {
        "id": "hGuoT1J6x4K7"
      }
    },
    {
      "cell_type": "markdown",
      "source": [
        "# New Section"
      ],
      "metadata": {
        "id": "WO6FZf83yG0S"
      }
    },
    {
      "cell_type": "markdown",
      "source": [
        "# New Section"
      ],
      "metadata": {
        "id": "tnzQYv92yVd8"
      }
    },
    {
      "cell_type": "markdown",
      "source": [
        "# New Section"
      ],
      "metadata": {
        "id": "vB3NhiCOykHc"
      }
    },
    {
      "cell_type": "markdown",
      "source": [
        "# New Section"
      ],
      "metadata": {
        "id": "4raclWBsyyw8"
      }
    },
    {
      "cell_type": "markdown",
      "source": [
        "# New Section"
      ],
      "metadata": {
        "id": "r4Wd8i7OzBaV"
      }
    },
    {
      "cell_type": "markdown",
      "source": [
        "# New Section"
      ],
      "metadata": {
        "id": "MXaO53yHzQD1"
      }
    },
    {
      "cell_type": "markdown",
      "source": [
        "# New Section"
      ],
      "metadata": {
        "id": "O4fT_Uz_zetV"
      }
    },
    {
      "cell_type": "markdown",
      "source": [
        "# New Section"
      ],
      "metadata": {
        "id": "dTvnktujztW2"
      }
    },
    {
      "cell_type": "markdown",
      "source": [
        "# New Section"
      ],
      "metadata": {
        "id": "zbXJiewJz8AW"
      }
    },
    {
      "cell_type": "markdown",
      "source": [
        "# New Section"
      ],
      "metadata": {
        "id": "dJjB-Dn00Kp1"
      }
    },
    {
      "cell_type": "markdown",
      "source": [
        "# New Section"
      ],
      "metadata": {
        "id": "9IZFKVfU0ZTW"
      }
    },
    {
      "cell_type": "markdown",
      "source": [
        "# New Section"
      ],
      "metadata": {
        "id": "P5V0msQp0n89"
      }
    },
    {
      "cell_type": "markdown",
      "source": [
        "# New Section"
      ],
      "metadata": {
        "id": "RjxcPr2B02mb"
      }
    },
    {
      "cell_type": "markdown",
      "source": [
        "# New Section"
      ],
      "metadata": {
        "id": "8UAZCmPm1FP4"
      }
    },
    {
      "cell_type": "markdown",
      "source": [
        "# New Section"
      ],
      "metadata": {
        "id": "lSoZYoFG1T5S"
      }
    },
    {
      "cell_type": "markdown",
      "source": [
        "# New Section"
      ],
      "metadata": {
        "id": "y3qq8h6q1ii5"
      }
    },
    {
      "cell_type": "markdown",
      "source": [
        "# New Section"
      ],
      "metadata": {
        "id": "qwDivySM1xMa"
      }
    },
    {
      "cell_type": "markdown",
      "source": [
        "# New Section"
      ],
      "metadata": {
        "id": "RVGEoQS71_1x"
      }
    },
    {
      "cell_type": "markdown",
      "source": [
        "# New Section"
      ],
      "metadata": {
        "id": "sT8RbGTF2OfU"
      }
    },
    {
      "cell_type": "markdown",
      "source": [
        "# New Section"
      ],
      "metadata": {
        "id": "LfrPjusg2dIy"
      }
    },
    {
      "cell_type": "markdown",
      "source": [
        "# New Section"
      ],
      "metadata": {
        "id": "g6EMU90X2ryS"
      }
    },
    {
      "cell_type": "markdown",
      "source": [
        "# New Section"
      ],
      "metadata": {
        "id": "iMG4-LSC26b0"
      }
    },
    {
      "cell_type": "markdown",
      "source": [
        "# New Section"
      ],
      "metadata": {
        "id": "Nnc__ho53JFc"
      }
    },
    {
      "cell_type": "markdown",
      "source": [
        "# New Section"
      ],
      "metadata": {
        "id": "UofcYvwG3Xu7"
      }
    },
    {
      "cell_type": "markdown",
      "source": [
        "# New Section"
      ],
      "metadata": {
        "id": "UJQrYlm13mYZ"
      }
    },
    {
      "cell_type": "markdown",
      "source": [
        "# New Section"
      ],
      "metadata": {
        "id": "x4KFe2Cy31B8"
      }
    },
    {
      "cell_type": "markdown",
      "source": [
        "# New Section"
      ],
      "metadata": {
        "id": "L2MhJEvi4DrW"
      }
    },
    {
      "cell_type": "markdown",
      "source": [
        "# New Section"
      ],
      "metadata": {
        "id": "5APNYlAf4SU0"
      }
    },
    {
      "cell_type": "markdown",
      "source": [
        "# New Section"
      ],
      "metadata": {
        "id": "cYc7lxAI4g-b"
      }
    },
    {
      "cell_type": "markdown",
      "source": [
        "# New Section"
      ],
      "metadata": {
        "id": "RdiTYsEw4vn3"
      }
    },
    {
      "cell_type": "markdown",
      "source": [
        "# New Section"
      ],
      "metadata": {
        "id": "ZYIBVdTo4-RV"
      }
    },
    {
      "cell_type": "markdown",
      "source": [
        "# New Section"
      ],
      "metadata": {
        "id": "KAASlTsY5M64"
      }
    },
    {
      "cell_type": "markdown",
      "source": [
        "# New Section"
      ],
      "metadata": {
        "id": "TkEj4hdY5bkY"
      }
    },
    {
      "cell_type": "markdown",
      "source": [
        "# New Section"
      ],
      "metadata": {
        "id": "UGHVsD4y5qN2"
      }
    },
    {
      "cell_type": "markdown",
      "source": [
        "# New Section"
      ],
      "metadata": {
        "id": "sAzGo0nj543f"
      }
    },
    {
      "cell_type": "markdown",
      "source": [
        "# New Section"
      ],
      "metadata": {
        "id": "QR6WbxyQ6Hg6"
      }
    },
    {
      "cell_type": "markdown",
      "source": [
        "# New Section"
      ],
      "metadata": {
        "id": "IFVBCPeW6WKT"
      }
    },
    {
      "cell_type": "markdown",
      "source": [
        "# New Section"
      ],
      "metadata": {
        "id": "RVgwBDgF6kzz"
      }
    },
    {
      "cell_type": "markdown",
      "source": [
        "# New Section"
      ],
      "metadata": {
        "id": "dgN13y5i6zdY"
      }
    },
    {
      "cell_type": "markdown",
      "source": [
        "# New Section"
      ],
      "metadata": {
        "id": "YYxcK1zR7CG-"
      }
    },
    {
      "cell_type": "markdown",
      "source": [
        "# New Section"
      ],
      "metadata": {
        "id": "46m_2jPj7Qwe"
      }
    },
    {
      "cell_type": "markdown",
      "source": [
        "# New Section"
      ],
      "metadata": {
        "id": "fGValAyO7fZx"
      }
    },
    {
      "cell_type": "markdown",
      "source": [
        "# New Section"
      ],
      "metadata": {
        "id": "EXhxIl_V7uDW"
      }
    },
    {
      "cell_type": "markdown",
      "source": [
        "# New Section"
      ],
      "metadata": {
        "id": "Uoh9-MRu78s9"
      }
    },
    {
      "cell_type": "markdown",
      "source": [
        "# New Section"
      ],
      "metadata": {
        "id": "Qo-UWB0v8LWV"
      }
    },
    {
      "cell_type": "markdown",
      "source": [
        "# New Section"
      ],
      "metadata": {
        "id": "_0I_hwuX8Z_8"
      }
    },
    {
      "cell_type": "markdown",
      "source": [
        "# New Section"
      ],
      "metadata": {
        "id": "fqxsRTBO8ope"
      }
    },
    {
      "cell_type": "markdown",
      "source": [
        "# New Section"
      ],
      "metadata": {
        "id": "73b77Tkx83S5"
      }
    },
    {
      "cell_type": "markdown",
      "source": [
        "# New Section"
      ],
      "metadata": {
        "id": "QGud26Yp9F8b"
      }
    },
    {
      "cell_type": "markdown",
      "source": [
        "# New Section"
      ],
      "metadata": {
        "id": "pOsa8yKN9Ulz"
      }
    },
    {
      "cell_type": "markdown",
      "source": [
        "# New Section"
      ],
      "metadata": {
        "id": "gq1q0ifj9jPX"
      }
    },
    {
      "cell_type": "markdown",
      "source": [
        "# New Section"
      ],
      "metadata": {
        "id": "ncyKOqss9x41"
      }
    },
    {
      "cell_type": "markdown",
      "source": [
        "# New Section"
      ],
      "metadata": {
        "id": "WUd8dzla-AiS"
      }
    },
    {
      "cell_type": "markdown",
      "source": [
        "# New Section"
      ],
      "metadata": {
        "id": "AeOIdw_R-PLy"
      }
    },
    {
      "cell_type": "markdown",
      "source": [
        "# New Section"
      ],
      "metadata": {
        "id": "3z3Avli7-d1f"
      }
    },
    {
      "cell_type": "markdown",
      "source": [
        "# New Section"
      ],
      "metadata": {
        "id": "rGN8X_5m-sey"
      }
    },
    {
      "cell_type": "markdown",
      "source": [
        "# New Section"
      ],
      "metadata": {
        "id": "5_9Un8xh-7IW"
      }
    },
    {
      "cell_type": "markdown",
      "source": [
        "# New Section"
      ],
      "metadata": {
        "id": "0Yu1gU3H_Jx7"
      }
    },
    {
      "cell_type": "markdown",
      "source": [
        "# New Section"
      ],
      "metadata": {
        "id": "K94QoytD_YbS"
      }
    },
    {
      "cell_type": "markdown",
      "source": [
        "# New Section"
      ],
      "metadata": {
        "id": "GxStZdNu_nE3"
      }
    },
    {
      "cell_type": "markdown",
      "source": [
        "# New Section"
      ],
      "metadata": {
        "id": "9sS8Ynba_1uS"
      }
    },
    {
      "cell_type": "markdown",
      "source": [
        "# New Section"
      ],
      "metadata": {
        "id": "0rnjDyBJAEXy"
      }
    },
    {
      "cell_type": "markdown",
      "source": [
        "# New Section"
      ],
      "metadata": {
        "id": "ui5O37SDATBa"
      }
    },
    {
      "cell_type": "markdown",
      "source": [
        "# New Section"
      ],
      "metadata": {
        "id": "X6c9r13JAhqy"
      }
    },
    {
      "cell_type": "markdown",
      "source": [
        "# New Section"
      ],
      "metadata": {
        "id": "X2q-ikx4AwUS"
      }
    },
    {
      "cell_type": "markdown",
      "source": [
        "# New Section"
      ],
      "metadata": {
        "id": "gi4FIsrNA-96"
      }
    },
    {
      "cell_type": "markdown",
      "source": [
        "# New Section"
      ],
      "metadata": {
        "id": "m_bghCrFBNnc"
      }
    },
    {
      "cell_type": "markdown",
      "source": [
        "# New Section"
      ],
      "metadata": {
        "id": "kabs7pLcBcQw"
      }
    },
    {
      "cell_type": "markdown",
      "source": [
        "# New Section"
      ],
      "metadata": {
        "id": "Y6Y5HDfeBq6Z"
      }
    },
    {
      "cell_type": "markdown",
      "source": [
        "# New Section"
      ],
      "metadata": {
        "id": "OZmLWNeYB5j_"
      }
    },
    {
      "cell_type": "markdown",
      "source": [
        "# New Section"
      ],
      "metadata": {
        "id": "iVe3cxydCINe"
      }
    },
    {
      "cell_type": "markdown",
      "source": [
        "# New Section"
      ],
      "metadata": {
        "id": "j5jnOAr9CW2z"
      }
    },
    {
      "cell_type": "markdown",
      "source": [
        "# New Section"
      ],
      "metadata": {
        "id": "l_atCjNkClgZ"
      }
    },
    {
      "cell_type": "markdown",
      "source": [
        "# New Section"
      ],
      "metadata": {
        "id": "nfrfijCaC0J_"
      }
    },
    {
      "cell_type": "markdown",
      "source": [
        "# New Section"
      ],
      "metadata": {
        "id": "6W2IZy-mDCzZ"
      }
    },
    {
      "cell_type": "markdown",
      "source": [
        "# New Section"
      ],
      "metadata": {
        "id": "Ocv_K0RxDRc6"
      }
    },
    {
      "cell_type": "markdown",
      "source": [
        "# New Section"
      ],
      "metadata": {
        "id": "zwbMMB-nDgGX"
      }
    },
    {
      "cell_type": "markdown",
      "source": [
        "# New Section"
      ],
      "metadata": {
        "id": "x9fgGFzODuvy"
      }
    },
    {
      "cell_type": "markdown",
      "source": [
        "# New Section"
      ],
      "metadata": {
        "id": "7I_-mN7XD9ZW"
      }
    },
    {
      "cell_type": "markdown",
      "source": [
        "# New Section"
      ],
      "metadata": {
        "id": "AdPUFEdjEMC5"
      }
    },
    {
      "cell_type": "markdown",
      "source": [
        "# New Section"
      ],
      "metadata": {
        "id": "w55ztw82EasV"
      }
    },
    {
      "cell_type": "markdown",
      "source": [
        "# New Section"
      ],
      "metadata": {
        "id": "mqIWNdTUEpV4"
      }
    },
    {
      "cell_type": "markdown",
      "source": [
        "# New Section"
      ],
      "metadata": {
        "id": "IP4fncZ4E3_R"
      }
    },
    {
      "cell_type": "markdown",
      "source": [
        "# New Section"
      ],
      "metadata": {
        "id": "ZSTZDQKIFGo_"
      }
    },
    {
      "cell_type": "markdown",
      "source": [
        "# New Section"
      ],
      "metadata": {
        "id": "_TuyVW9VFVSf"
      }
    },
    {
      "cell_type": "markdown",
      "source": [
        "# New Section"
      ],
      "metadata": {
        "id": "9OR7PE67Fj75"
      }
    },
    {
      "cell_type": "markdown",
      "source": [
        "# New Section"
      ],
      "metadata": {
        "id": "yDOth-sEFylY"
      }
    },
    {
      "cell_type": "markdown",
      "source": [
        "# New Section"
      ],
      "metadata": {
        "id": "CiF4HbL2GBO3"
      }
    },
    {
      "cell_type": "markdown",
      "source": [
        "# New Section"
      ],
      "metadata": {
        "id": "lD0nsoodGP4S"
      }
    },
    {
      "cell_type": "markdown",
      "source": [
        "# New Section"
      ],
      "metadata": {
        "id": "ErZ0E8GDGeh3"
      }
    },
    {
      "cell_type": "markdown",
      "source": [
        "# New Section"
      ],
      "metadata": {
        "id": "7h1xEPdtGtLX"
      }
    },
    {
      "cell_type": "markdown",
      "source": [
        "# New Section"
      ],
      "metadata": {
        "id": "HJZ7jaf-G708"
      }
    },
    {
      "cell_type": "markdown",
      "source": [
        "# New Section"
      ],
      "metadata": {
        "id": "oOS1p-mrHKea"
      }
    },
    {
      "cell_type": "markdown",
      "source": [
        "# New Section"
      ],
      "metadata": {
        "id": "QlzWz-psHZH8"
      }
    },
    {
      "cell_type": "markdown",
      "source": [
        "# New Section"
      ],
      "metadata": {
        "id": "KtcnKvpFHnxb"
      }
    },
    {
      "cell_type": "markdown",
      "source": [
        "# New Section"
      ],
      "metadata": {
        "id": "X46GoXL3H2a8"
      }
    },
    {
      "cell_type": "markdown",
      "source": [
        "# New Section"
      ],
      "metadata": {
        "id": "0XLL0XxbIFEc"
      }
    },
    {
      "cell_type": "markdown",
      "source": [
        "# New Section"
      ],
      "metadata": {
        "id": "n2cucuKMITt9"
      }
    },
    {
      "cell_type": "markdown",
      "source": [
        "# New Section"
      ],
      "metadata": {
        "id": "khTFtMaAIiXV"
      }
    },
    {
      "cell_type": "markdown",
      "source": [
        "# New Section"
      ],
      "metadata": {
        "id": "T0TZSxbUIxAw"
      }
    },
    {
      "cell_type": "markdown",
      "source": [
        "# New Section"
      ],
      "metadata": {
        "id": "VA0kUx4gI_qd"
      }
    },
    {
      "cell_type": "markdown",
      "source": [
        "# New Section"
      ],
      "metadata": {
        "id": "0MRAFs-DJOTx"
      }
    },
    {
      "cell_type": "markdown",
      "source": [
        "# New Section"
      ],
      "metadata": {
        "id": "y8lZEU3ZJc9Q"
      }
    },
    {
      "cell_type": "markdown",
      "source": [
        "# New Section"
      ],
      "metadata": {
        "id": "fUhNOTMvJrmv"
      }
    },
    {
      "cell_type": "markdown",
      "source": [
        "# New Section"
      ],
      "metadata": {
        "id": "rd0VsgTLJ6QY"
      }
    },
    {
      "cell_type": "markdown",
      "source": [
        "# New Section"
      ],
      "metadata": {
        "id": "uTGdBc_6KI5w"
      }
    },
    {
      "cell_type": "markdown",
      "source": [
        "# New Section"
      ],
      "metadata": {
        "id": "A0fs0HzsKXjR"
      }
    },
    {
      "cell_type": "markdown",
      "source": [
        "# New Section"
      ],
      "metadata": {
        "id": "UHib_-qkKmMy"
      }
    },
    {
      "cell_type": "markdown",
      "source": [
        "# New Section"
      ],
      "metadata": {
        "id": "U4SeqqwmK02e"
      }
    },
    {
      "cell_type": "markdown",
      "source": [
        "# New Section"
      ],
      "metadata": {
        "id": "MPXqTwGLLDgK"
      }
    },
    {
      "cell_type": "markdown",
      "source": [
        "# New Section"
      ],
      "metadata": {
        "id": "o_YnkSXKLSJS"
      }
    },
    {
      "cell_type": "markdown",
      "source": [
        "# New Section"
      ],
      "metadata": {
        "id": "4IVp5YFyLgyy"
      }
    },
    {
      "cell_type": "markdown",
      "source": [
        "# New Section"
      ],
      "metadata": {
        "id": "j-1Z6nswLvcP"
      }
    },
    {
      "cell_type": "markdown",
      "source": [
        "# New Section"
      ],
      "metadata": {
        "id": "pLPH4_Y8L-Fz"
      }
    },
    {
      "cell_type": "markdown",
      "source": [
        "# New Section"
      ],
      "metadata": {
        "id": "N93Du3umMMvT"
      }
    },
    {
      "cell_type": "markdown",
      "source": [
        "# New Section"
      ],
      "metadata": {
        "id": "2ZIE2vuPMbYz"
      }
    },
    {
      "cell_type": "markdown",
      "source": [
        "# New Section"
      ],
      "metadata": {
        "id": "mXXuBxWPMqCd"
      }
    },
    {
      "cell_type": "markdown",
      "source": [
        "# New Section"
      ],
      "metadata": {
        "id": "LqM4O-fuM4rz"
      }
    },
    {
      "cell_type": "markdown",
      "source": [
        "# New Section"
      ],
      "metadata": {
        "id": "Rby_H7fGNHVT"
      }
    },
    {
      "cell_type": "markdown",
      "source": [
        "# New Section"
      ],
      "metadata": {
        "id": "eglYDoNcNV-1"
      }
    },
    {
      "cell_type": "markdown",
      "source": [
        "# New Section"
      ],
      "metadata": {
        "id": "v6yGjIluNkoW"
      }
    },
    {
      "cell_type": "markdown",
      "source": [
        "# New Section"
      ],
      "metadata": {
        "id": "vZwj6uZ_NzR1"
      }
    },
    {
      "cell_type": "markdown",
      "source": [
        "# New Section"
      ],
      "metadata": {
        "id": "UUqtSge5OB7T"
      }
    },
    {
      "cell_type": "markdown",
      "source": [
        "# New Section"
      ],
      "metadata": {
        "id": "_VU-sVfNOQk2"
      }
    },
    {
      "cell_type": "markdown",
      "source": [
        "# New Section"
      ],
      "metadata": {
        "id": "RPPm43EHOfOX"
      }
    },
    {
      "cell_type": "markdown",
      "source": [
        "# New Section"
      ],
      "metadata": {
        "id": "P1DyqgIZOt34"
      }
    },
    {
      "cell_type": "markdown",
      "source": [
        "# New Section"
      ],
      "metadata": {
        "id": "GfWAl8utO8hX"
      }
    },
    {
      "cell_type": "markdown",
      "source": [
        "# New Section"
      ],
      "metadata": {
        "id": "oPG_HG-cPLK4"
      }
    },
    {
      "cell_type": "markdown",
      "source": [
        "# New Section"
      ],
      "metadata": {
        "id": "vn4qF2BLPZ0Y"
      }
    },
    {
      "cell_type": "markdown",
      "source": [
        "# New Section"
      ],
      "metadata": {
        "id": "BD-YrTZgPod1"
      }
    },
    {
      "cell_type": "markdown",
      "source": [
        "# New Section"
      ],
      "metadata": {
        "id": "Kc77iJ89P3He"
      }
    },
    {
      "cell_type": "markdown",
      "source": [
        "# New Section"
      ],
      "metadata": {
        "id": "Kwr7yoA_QFw-"
      }
    },
    {
      "cell_type": "markdown",
      "source": [
        "# New Section"
      ],
      "metadata": {
        "id": "Fj8IhZEUQUaY"
      }
    },
    {
      "cell_type": "markdown",
      "source": [
        "# New Section"
      ],
      "metadata": {
        "id": "B8jR7xjYQjD7"
      }
    },
    {
      "cell_type": "markdown",
      "source": [
        "# New Section"
      ],
      "metadata": {
        "id": "N6KqaqFIQxtS"
      }
    },
    {
      "cell_type": "markdown",
      "source": [
        "# New Section"
      ],
      "metadata": {
        "id": "yf1utsm9RAW7"
      }
    },
    {
      "cell_type": "markdown",
      "source": [
        "# New Section"
      ],
      "metadata": {
        "id": "twgOEabDRPAZ"
      }
    },
    {
      "cell_type": "markdown",
      "source": [
        "# New Section"
      ],
      "metadata": {
        "id": "OuP7DJH7Rdp1"
      }
    },
    {
      "cell_type": "markdown",
      "source": [
        "# New Section"
      ],
      "metadata": {
        "id": "-zOLbnKWRsTa"
      }
    },
    {
      "cell_type": "markdown",
      "source": [
        "# New Section"
      ],
      "metadata": {
        "id": "adwgTpKGR687"
      }
    },
    {
      "cell_type": "markdown",
      "source": [
        "# New Section"
      ],
      "metadata": {
        "id": "34Sp_sTYSJmY"
      }
    },
    {
      "cell_type": "markdown",
      "source": [
        "# New Section"
      ],
      "metadata": {
        "id": "tPw2AzA8SYP9"
      }
    },
    {
      "cell_type": "markdown",
      "source": [
        "# New Section"
      ],
      "metadata": {
        "id": "L8bYdwK8Sm5V"
      }
    },
    {
      "cell_type": "markdown",
      "source": [
        "# New Section"
      ],
      "metadata": {
        "id": "1GuWJX6xS1i_"
      }
    },
    {
      "cell_type": "markdown",
      "source": [
        "# New Section"
      ],
      "metadata": {
        "id": "viNG7N0nTEMc"
      }
    },
    {
      "cell_type": "markdown",
      "source": [
        "# New Section"
      ],
      "metadata": {
        "id": "dO4IqnQuTS17"
      }
    },
    {
      "cell_type": "markdown",
      "source": [
        "# New Section"
      ],
      "metadata": {
        "id": "6rmKcFFMThfc"
      }
    },
    {
      "cell_type": "markdown",
      "source": [
        "# New Section"
      ],
      "metadata": {
        "id": "bpXO4pq5TwI-"
      }
    },
    {
      "cell_type": "markdown",
      "source": [
        "# New Section"
      ],
      "metadata": {
        "id": "vBjSQHJKT-yQ"
      }
    },
    {
      "cell_type": "markdown",
      "source": [
        "# New Section"
      ],
      "metadata": {
        "id": "A5Ao3U1OUNb9"
      }
    },
    {
      "cell_type": "markdown",
      "source": [
        "# New Section"
      ],
      "metadata": {
        "id": "hIDxKNRNUcFf"
      }
    },
    {
      "cell_type": "markdown",
      "source": [
        "# New Section"
      ],
      "metadata": {
        "id": "4dbSltavUquy"
      }
    },
    {
      "cell_type": "markdown",
      "source": [
        "# New Section"
      ],
      "metadata": {
        "id": "Kqp69EzQU5YU"
      }
    },
    {
      "cell_type": "markdown",
      "source": [
        "# New Section"
      ],
      "metadata": {
        "id": "NYWvAauVVIBz"
      }
    },
    {
      "cell_type": "markdown",
      "source": [
        "# New Section"
      ],
      "metadata": {
        "id": "bZw8unuPVWrW"
      }
    },
    {
      "cell_type": "markdown",
      "source": [
        "# New Section"
      ],
      "metadata": {
        "id": "sbAU-YtVVlU3"
      }
    },
    {
      "cell_type": "markdown",
      "source": [
        "# New Section"
      ],
      "metadata": {
        "id": "q_IuHgmGVz-f"
      }
    },
    {
      "cell_type": "markdown",
      "source": [
        "# New Section"
      ],
      "metadata": {
        "id": "A9vr_5CbWCny"
      }
    },
    {
      "cell_type": "markdown",
      "source": [
        "# New Section"
      ],
      "metadata": {
        "id": "Bd83zVkGWRRU"
      }
    },
    {
      "cell_type": "markdown",
      "source": [
        "# New Section"
      ],
      "metadata": {
        "id": "guELvD9oWf6x"
      }
    },
    {
      "cell_type": "markdown",
      "source": [
        "# New Section"
      ],
      "metadata": {
        "id": "HaWUDvFxWukR"
      }
    },
    {
      "cell_type": "markdown",
      "source": [
        "# New Section"
      ],
      "metadata": {
        "id": "h1Q2MoxKW9Nz"
      }
    },
    {
      "cell_type": "markdown",
      "source": [
        "# New Section"
      ],
      "metadata": {
        "id": "5B46Jy7fXL3R"
      }
    },
    {
      "cell_type": "markdown",
      "source": [
        "# New Section"
      ],
      "metadata": {
        "id": "nmz4krtqXagy"
      }
    },
    {
      "cell_type": "markdown",
      "source": [
        "# New Section"
      ],
      "metadata": {
        "id": "si6YVGFiXpKW"
      }
    },
    {
      "cell_type": "markdown",
      "source": [
        "# New Section"
      ],
      "metadata": {
        "id": "DYh-aVJtX3z_"
      }
    },
    {
      "cell_type": "markdown",
      "source": [
        "# New Section"
      ],
      "metadata": {
        "id": "kSIFU-_YYGdV"
      }
    },
    {
      "cell_type": "markdown",
      "source": [
        "# New Section"
      ],
      "metadata": {
        "id": "mxsp0V_QYVG9"
      }
    },
    {
      "cell_type": "markdown",
      "source": [
        "# New Section"
      ],
      "metadata": {
        "id": "YIZClP1mYjwS"
      }
    },
    {
      "cell_type": "markdown",
      "source": [
        "# New Section"
      ],
      "metadata": {
        "id": "JyhVHuw2YyZ2"
      }
    },
    {
      "cell_type": "markdown",
      "source": [
        "# New Section"
      ],
      "metadata": {
        "id": "3zV1ePvqZBDW"
      }
    },
    {
      "cell_type": "markdown",
      "source": [
        "# New Section"
      ],
      "metadata": {
        "id": "6xOvnHtUZPs1"
      }
    },
    {
      "cell_type": "markdown",
      "source": [
        "# New Section"
      ],
      "metadata": {
        "id": "9Mg4kKAEZeWR"
      }
    },
    {
      "cell_type": "markdown",
      "source": [
        "# New Section"
      ],
      "metadata": {
        "id": "zTqcwoc2Zs_4"
      }
    },
    {
      "cell_type": "markdown",
      "source": [
        "# New Section"
      ],
      "metadata": {
        "id": "9pvM61msZ7pX"
      }
    },
    {
      "cell_type": "markdown",
      "source": [
        "# New Section"
      ],
      "metadata": {
        "id": "conxU0MWaKS2"
      }
    },
    {
      "cell_type": "markdown",
      "source": [
        "# New Section"
      ],
      "metadata": {
        "id": "9jr4Mv2VaY8f"
      }
    },
    {
      "cell_type": "markdown",
      "source": [
        "# New Section"
      ],
      "metadata": {
        "id": "3m-HBSZnanlz"
      }
    },
    {
      "cell_type": "markdown",
      "source": [
        "# New Section"
      ],
      "metadata": {
        "id": "FKYVHWyta2PX"
      }
    },
    {
      "cell_type": "markdown",
      "source": [
        "# New Section"
      ],
      "metadata": {
        "id": "aaCy7mBRbE45"
      }
    },
    {
      "cell_type": "markdown",
      "source": [
        "# New Section"
      ],
      "metadata": {
        "id": "NnLOtrmRbTib"
      }
    },
    {
      "cell_type": "markdown",
      "source": [
        "# New Section"
      ],
      "metadata": {
        "id": "NvdxBwiubiL7"
      }
    },
    {
      "cell_type": "markdown",
      "source": [
        "# New Section"
      ],
      "metadata": {
        "id": "nCpL7IVXbw1f"
      }
    },
    {
      "cell_type": "markdown",
      "source": [
        "# New Section"
      ],
      "metadata": {
        "id": "eaJDhBxyb_fA"
      }
    },
    {
      "cell_type": "markdown",
      "source": [
        "# New Section"
      ],
      "metadata": {
        "id": "FZ3LQTS_cOIV"
      }
    },
    {
      "cell_type": "markdown",
      "source": [
        "# New Section"
      ],
      "metadata": {
        "id": "n23niwNHccx_"
      }
    },
    {
      "cell_type": "markdown",
      "source": [
        "# New Section"
      ],
      "metadata": {
        "id": "DvLG9Z8Zcrbc"
      }
    },
    {
      "cell_type": "markdown",
      "source": [
        "# New Section"
      ],
      "metadata": {
        "id": "nG5v_gJac6E_"
      }
    },
    {
      "cell_type": "markdown",
      "source": [
        "# New Section"
      ],
      "metadata": {
        "id": "Uic2uEeudIue"
      }
    },
    {
      "cell_type": "markdown",
      "source": [
        "# New Section"
      ],
      "metadata": {
        "id": "a7WJtWcqdXX1"
      }
    },
    {
      "cell_type": "markdown",
      "source": [
        "# New Section"
      ],
      "metadata": {
        "id": "CNa_VZeOdmBd"
      }
    },
    {
      "cell_type": "markdown",
      "source": [
        "# New Section"
      ],
      "metadata": {
        "id": "TzrtcTbAd0q7"
      }
    },
    {
      "cell_type": "markdown",
      "source": [
        "# New Section"
      ],
      "metadata": {
        "id": "el_3wAHIeDUZ"
      }
    },
    {
      "cell_type": "markdown",
      "source": [
        "# New Section"
      ],
      "metadata": {
        "id": "nAQOjwYKeR93"
      }
    },
    {
      "cell_type": "markdown",
      "source": [
        "# New Section"
      ],
      "metadata": {
        "id": "Ep4XU8qjegnV"
      }
    },
    {
      "cell_type": "markdown",
      "source": [
        "# New Section"
      ],
      "metadata": {
        "id": "udyrhhvBevQ0"
      }
    },
    {
      "cell_type": "markdown",
      "source": [
        "# New Section"
      ],
      "metadata": {
        "id": "NRCij5zLe96f"
      }
    },
    {
      "cell_type": "markdown",
      "source": [
        "# New Section"
      ],
      "metadata": {
        "id": "oFEfljm2fMj7"
      }
    },
    {
      "cell_type": "markdown",
      "source": [
        "# New Section"
      ],
      "metadata": {
        "id": "TV3ZKyjwfbNU"
      }
    },
    {
      "cell_type": "markdown",
      "source": [
        "# New Section"
      ],
      "metadata": {
        "id": "enqxV7gVfp24"
      }
    },
    {
      "cell_type": "markdown",
      "source": [
        "# New Section"
      ],
      "metadata": {
        "id": "aTg6bp0Lf4gb"
      }
    },
    {
      "cell_type": "markdown",
      "source": [
        "# New Section"
      ],
      "metadata": {
        "id": "n-hooubXgHJ-"
      }
    },
    {
      "cell_type": "markdown",
      "source": [
        "# New Section"
      ],
      "metadata": {
        "id": "DnFBsS5dgVzc"
      }
    },
    {
      "cell_type": "markdown",
      "source": [
        "# New Section"
      ],
      "metadata": {
        "id": "8PaGm5YBgkcy"
      }
    },
    {
      "cell_type": "markdown",
      "source": [
        "# New Section"
      ],
      "metadata": {
        "id": "854DtbtugzGW"
      }
    },
    {
      "cell_type": "markdown",
      "source": [
        "# New Section"
      ],
      "metadata": {
        "id": "GCDzueWWhBv5"
      }
    },
    {
      "cell_type": "markdown",
      "source": [
        "# New Section"
      ],
      "metadata": {
        "id": "qtosUqychQZU"
      }
    },
    {
      "cell_type": "markdown",
      "source": [
        "# New Section"
      ],
      "metadata": {
        "id": "qHBrIAdThfCz"
      }
    },
    {
      "cell_type": "markdown",
      "source": [
        "# New Section"
      ],
      "metadata": {
        "id": "0rWD0h_xhtsa"
      }
    },
    {
      "cell_type": "markdown",
      "source": [
        "# New Section"
      ],
      "metadata": {
        "id": "ZAhCyTXHh8V1"
      }
    },
    {
      "cell_type": "markdown",
      "source": [
        "# New Section"
      ],
      "metadata": {
        "id": "3urSb5TYiK_a"
      }
    },
    {
      "cell_type": "markdown",
      "source": [
        "# New Section"
      ],
      "metadata": {
        "id": "j9YjJJnwiZo-"
      }
    },
    {
      "cell_type": "markdown",
      "source": [
        "# New Section"
      ],
      "metadata": {
        "id": "MvOAFXTzioSd"
      }
    },
    {
      "cell_type": "markdown",
      "source": [
        "# New Section"
      ],
      "metadata": {
        "id": "RmmnJIcIi276"
      }
    },
    {
      "cell_type": "markdown",
      "source": [
        "# New Section"
      ],
      "metadata": {
        "id": "9sX86tf2jFlY"
      }
    },
    {
      "cell_type": "markdown",
      "source": [
        "# New Section"
      ],
      "metadata": {
        "id": "Xt1JzrxJjUPA"
      }
    },
    {
      "cell_type": "markdown",
      "source": [
        "# New Section"
      ],
      "metadata": {
        "id": "DufDvGezji4Y"
      }
    },
    {
      "cell_type": "markdown",
      "source": [
        "# New Section"
      ],
      "metadata": {
        "id": "QRA-_TI6jxhx"
      }
    },
    {
      "cell_type": "markdown",
      "source": [
        "# New Section"
      ],
      "metadata": {
        "id": "gGsQIRdBkALW"
      }
    },
    {
      "cell_type": "markdown",
      "source": [
        "# New Section"
      ],
      "metadata": {
        "id": "JWjnH4t0kO03"
      }
    },
    {
      "cell_type": "markdown",
      "source": [
        "# New Section"
      ],
      "metadata": {
        "id": "Mm8cXsUKkdeb"
      }
    },
    {
      "cell_type": "markdown",
      "source": [
        "# New Section"
      ],
      "metadata": {
        "id": "0qrCSjp0ksH-"
      }
    },
    {
      "cell_type": "markdown",
      "source": [
        "# New Section"
      ],
      "metadata": {
        "id": "VvVSG66_k6xf"
      }
    },
    {
      "cell_type": "markdown",
      "source": [
        "# New Section"
      ],
      "metadata": {
        "id": "if6m9n08lJa9"
      }
    },
    {
      "cell_type": "markdown",
      "source": [
        "# New Section"
      ],
      "metadata": {
        "id": "l7ayzrwTlYEb"
      }
    },
    {
      "cell_type": "markdown",
      "source": [
        "# New Section"
      ],
      "metadata": {
        "id": "cUFIA047lmt_"
      }
    },
    {
      "cell_type": "markdown",
      "source": [
        "# New Section"
      ],
      "metadata": {
        "id": "f5gYN6BYl1XZ"
      }
    },
    {
      "cell_type": "markdown",
      "source": [
        "# New Section"
      ],
      "metadata": {
        "id": "6gOLzPkQmEAx"
      }
    },
    {
      "cell_type": "markdown",
      "source": [
        "# New Section"
      ],
      "metadata": {
        "id": "dTTWLXsmmSqf"
      }
    },
    {
      "cell_type": "markdown",
      "source": [
        "# New Section"
      ],
      "metadata": {
        "id": "3e6Zq3bKmhTy"
      }
    },
    {
      "cell_type": "markdown",
      "source": [
        "# New Section"
      ],
      "metadata": {
        "id": "N0sMiAb0mv9V"
      }
    },
    {
      "cell_type": "markdown",
      "source": [
        "# New Section"
      ],
      "metadata": {
        "id": "vZAsLeyXm-my"
      }
    },
    {
      "cell_type": "markdown",
      "source": [
        "# New Section"
      ],
      "metadata": {
        "id": "kQWK_94OnNQY"
      }
    },
    {
      "cell_type": "markdown",
      "source": [
        "# New Section"
      ],
      "metadata": {
        "id": "h-76gD1znb58"
      }
    },
    {
      "cell_type": "markdown",
      "source": [
        "# New Section"
      ],
      "metadata": {
        "id": "Btsjb1UYnqjP"
      }
    },
    {
      "cell_type": "markdown",
      "source": [
        "# New Section"
      ],
      "metadata": {
        "id": "fmUBnNdFn5M5"
      }
    },
    {
      "cell_type": "markdown",
      "source": [
        "# New Section"
      ],
      "metadata": {
        "id": "67vs1yJEoH2U"
      }
    },
    {
      "cell_type": "markdown",
      "source": [
        "# New Section"
      ],
      "metadata": {
        "id": "fiUYAavYoWf1"
      }
    },
    {
      "cell_type": "markdown",
      "source": [
        "# New Section"
      ],
      "metadata": {
        "id": "ymE7NQW3olJa"
      }
    },
    {
      "cell_type": "markdown",
      "source": [
        "# New Section"
      ],
      "metadata": {
        "id": "vyDnFwOCozy3"
      }
    },
    {
      "cell_type": "markdown",
      "source": [
        "# New Section"
      ],
      "metadata": {
        "id": "LkknjJ6YpCcc"
      }
    },
    {
      "cell_type": "markdown",
      "source": [
        "# New Section"
      ],
      "metadata": {
        "id": "5_xt8X3JpRGA"
      }
    },
    {
      "cell_type": "markdown",
      "source": [
        "# New Section"
      ],
      "metadata": {
        "id": "4k2glbaHpfvc"
      }
    },
    {
      "cell_type": "markdown",
      "source": [
        "# New Section"
      ],
      "metadata": {
        "id": "I7dFXZ17puY4"
      }
    },
    {
      "cell_type": "markdown",
      "source": [
        "# New Section"
      ],
      "metadata": {
        "id": "i47vJ5FNp9CU"
      }
    },
    {
      "cell_type": "markdown",
      "source": [
        "# New Section"
      ],
      "metadata": {
        "id": "tv6nX5HBqLr6"
      }
    },
    {
      "cell_type": "markdown",
      "source": [
        "# New Section"
      ],
      "metadata": {
        "id": "V28IXLIxqaVb"
      }
    },
    {
      "cell_type": "markdown",
      "source": [
        "# New Section"
      ],
      "metadata": {
        "id": "-PxlT-CWqo--"
      }
    },
    {
      "cell_type": "markdown",
      "source": [
        "# New Section"
      ],
      "metadata": {
        "id": "hQSp33GRq3oV"
      }
    },
    {
      "cell_type": "markdown",
      "source": [
        "# New Section"
      ],
      "metadata": {
        "id": "1fPWtcpJrGRy"
      }
    },
    {
      "cell_type": "markdown",
      "source": [
        "# New Section"
      ],
      "metadata": {
        "id": "T3UEhLmgrU7Y"
      }
    },
    {
      "cell_type": "markdown",
      "source": [
        "# New Section"
      ],
      "metadata": {
        "id": "otdUved4rjk_"
      }
    },
    {
      "cell_type": "markdown",
      "source": [
        "# New Section"
      ],
      "metadata": {
        "id": "9LNsVeEEryOV"
      }
    },
    {
      "cell_type": "markdown",
      "source": [
        "# New Section"
      ],
      "metadata": {
        "id": "wxdkk2itsA32"
      }
    },
    {
      "cell_type": "markdown",
      "source": [
        "# New Section"
      ],
      "metadata": {
        "id": "AYk9RlmIsPhV"
      }
    },
    {
      "cell_type": "markdown",
      "source": [
        "# New Section"
      ],
      "metadata": {
        "id": "siDnuI1yseK5"
      }
    },
    {
      "cell_type": "markdown",
      "source": [
        "# New Section"
      ],
      "metadata": {
        "id": "9xNmFU9Kss0W"
      }
    },
    {
      "cell_type": "markdown",
      "source": [
        "# New Section"
      ],
      "metadata": {
        "id": "wCJ47WSHs7d3"
      }
    },
    {
      "cell_type": "markdown",
      "source": [
        "# New Section"
      ],
      "metadata": {
        "id": "EbT3Y1AWtKHd"
      }
    },
    {
      "cell_type": "markdown",
      "source": [
        "# New Section"
      ],
      "metadata": {
        "id": "8HnA-i5etYw9"
      }
    },
    {
      "cell_type": "markdown",
      "source": [
        "# New Section"
      ],
      "metadata": {
        "id": "Gk7RcQZStnac"
      }
    },
    {
      "cell_type": "markdown",
      "source": [
        "# New Section"
      ],
      "metadata": {
        "id": "1aauI7Mqt2D-"
      }
    },
    {
      "cell_type": "markdown",
      "source": [
        "# New Section"
      ],
      "metadata": {
        "id": "CrxLG3PzuEte"
      }
    },
    {
      "cell_type": "markdown",
      "source": [
        "# New Section"
      ],
      "metadata": {
        "id": "SPSsFCEjuTWw"
      }
    },
    {
      "cell_type": "markdown",
      "source": [
        "# New Section"
      ],
      "metadata": {
        "id": "pgFcvOdKuiAc"
      }
    },
    {
      "cell_type": "markdown",
      "source": [
        "# New Section"
      ],
      "metadata": {
        "id": "qihyVdrtuwp9"
      }
    },
    {
      "cell_type": "markdown",
      "source": [
        "# New Section"
      ],
      "metadata": {
        "id": "8bDIO6apu_Te"
      }
    },
    {
      "cell_type": "markdown",
      "source": [
        "# New Section"
      ],
      "metadata": {
        "id": "sY0MYzPPvN84"
      }
    },
    {
      "cell_type": "markdown",
      "source": [
        "# New Section"
      ],
      "metadata": {
        "id": "lu8WC977vcmW"
      }
    },
    {
      "cell_type": "markdown",
      "source": [
        "# New Section"
      ],
      "metadata": {
        "id": "qEbLCndhvrP2"
      }
    },
    {
      "cell_type": "markdown",
      "source": [
        "# New Section"
      ],
      "metadata": {
        "id": "BPwiN88gv55U"
      }
    },
    {
      "cell_type": "markdown",
      "source": [
        "# New Section"
      ],
      "metadata": {
        "id": "UfgW9f7GwIi2"
      }
    },
    {
      "cell_type": "markdown",
      "source": [
        "# New Section"
      ],
      "metadata": {
        "id": "DWxOFtmUwXMV"
      }
    },
    {
      "cell_type": "markdown",
      "source": [
        "# New Section"
      ],
      "metadata": {
        "id": "dSt88G6Qwl13"
      }
    },
    {
      "cell_type": "markdown",
      "source": [
        "# New Section"
      ],
      "metadata": {
        "id": "4tDE2bLEw0fT"
      }
    },
    {
      "cell_type": "markdown",
      "source": [
        "# New Section"
      ],
      "metadata": {
        "id": "cOpzhNKjxDI5"
      }
    },
    {
      "cell_type": "markdown",
      "source": [
        "# New Section"
      ],
      "metadata": {
        "id": "6Bec-zWNxRyT"
      }
    },
    {
      "cell_type": "markdown",
      "source": [
        "# New Section"
      ],
      "metadata": {
        "id": "sB0wn01txgb7"
      }
    },
    {
      "cell_type": "markdown",
      "source": [
        "# New Section"
      ],
      "metadata": {
        "id": "9JR3tf-yxvFe"
      }
    },
    {
      "cell_type": "markdown",
      "source": [
        "# New Section"
      ],
      "metadata": {
        "id": "kSLNOUxRx9ux"
      }
    },
    {
      "cell_type": "markdown",
      "source": [
        "# New Section"
      ],
      "metadata": {
        "id": "LkCSmdfeyMYg"
      }
    },
    {
      "cell_type": "markdown",
      "source": [
        "# New Section"
      ],
      "metadata": {
        "id": "4G_THjlQybB1"
      }
    },
    {
      "cell_type": "markdown",
      "source": [
        "# New Section"
      ],
      "metadata": {
        "id": "kSpP76rPyprR"
      }
    },
    {
      "cell_type": "markdown",
      "source": [
        "# New Section"
      ],
      "metadata": {
        "id": "Z4h7hX-_y4U2"
      }
    },
    {
      "cell_type": "markdown",
      "source": [
        "# New Section"
      ],
      "metadata": {
        "id": "7SWLFP-wzG-g"
      }
    },
    {
      "cell_type": "markdown",
      "source": [
        "# New Section"
      ],
      "metadata": {
        "id": "awvTBXSWzVn-"
      }
    },
    {
      "cell_type": "markdown",
      "source": [
        "# New Section"
      ],
      "metadata": {
        "id": "LGSwUM37zkRa"
      }
    },
    {
      "cell_type": "markdown",
      "source": [
        "# New Section"
      ],
      "metadata": {
        "id": "bUQjQwS9zy6x"
      }
    },
    {
      "cell_type": "markdown",
      "source": [
        "# New Section"
      ],
      "metadata": {
        "id": "LixDhzyI0BkX"
      }
    },
    {
      "cell_type": "markdown",
      "source": [
        "# New Section"
      ],
      "metadata": {
        "id": "-QgbSymS0QOB"
      }
    },
    {
      "cell_type": "markdown",
      "source": [
        "# New Section"
      ],
      "metadata": {
        "id": "s9GkTOzj0e3W"
      }
    },
    {
      "cell_type": "markdown",
      "source": [
        "# New Section"
      ],
      "metadata": {
        "id": "SLXQ9HmX0tgz"
      }
    },
    {
      "cell_type": "markdown",
      "source": [
        "# New Section"
      ],
      "metadata": {
        "id": "7Dv89xaF08KZ"
      }
    },
    {
      "cell_type": "markdown",
      "source": [
        "# New Section"
      ],
      "metadata": {
        "id": "WIgDrQiN1Kz0"
      }
    },
    {
      "cell_type": "markdown",
      "source": [
        "# New Section"
      ],
      "metadata": {
        "id": "DKE3LGeE1Zdb"
      }
    },
    {
      "cell_type": "markdown",
      "source": [
        "# New Section"
      ],
      "metadata": {
        "id": "Mo03bTmc1oG7"
      }
    },
    {
      "cell_type": "markdown",
      "source": [
        "# New Section"
      ],
      "metadata": {
        "id": "1llcs1kw12wc"
      }
    },
    {
      "cell_type": "markdown",
      "source": [
        "# New Section"
      ],
      "metadata": {
        "id": "MSX0Kxsi2FaA"
      }
    },
    {
      "cell_type": "markdown",
      "source": [
        "# New Section"
      ],
      "metadata": {
        "id": "W00QnNbR2UDc"
      }
    },
    {
      "cell_type": "code",
      "source": [],
      "metadata": {
        "id": "YWfDn7Qy2is1"
      },
      "execution_count": null,
      "outputs": []
    },
    {
      "cell_type": "code",
      "source": [],
      "metadata": {
        "id": "lnBPN-Kc2xWV"
      },
      "execution_count": null,
      "outputs": []
    }
  ]
}