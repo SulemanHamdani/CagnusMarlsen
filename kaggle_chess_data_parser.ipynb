{
  "nbformat": 4,
  "nbformat_minor": 0,
  "metadata": {
    "colab": {
      "provenance": []
    },
    "kernelspec": {
      "name": "python3",
      "display_name": "Python 3"
    },
    "language_info": {
      "name": "python"
    },
    "accelerator": "GPU",
    "gpuClass": "standard"
  },
  "cells": [
    {
      "cell_type": "code",
      "source": [
        "!pip install chess"
      ],
      "metadata": {
        "colab": {
          "base_uri": "https://localhost:8080/"
        },
        "id": "patXomz0da88",
        "outputId": "1bb04110-3e18-4f1e-d323-09d19576d467"
      },
      "execution_count": null,
      "outputs": [
        {
          "output_type": "stream",
          "name": "stdout",
          "text": [
            "Looking in indexes: https://pypi.org/simple, https://us-python.pkg.dev/colab-wheels/public/simple/\n",
            "Collecting chess\n",
            "  Downloading chess-1.9.4-py3-none-any.whl (149 kB)\n",
            "\u001b[2K     \u001b[90m━━━━━━━━━━━━━━━━━━━━━━━━━━━━━━━━━━━━━━━\u001b[0m \u001b[32m149.1/149.1 kB\u001b[0m \u001b[31m4.8 MB/s\u001b[0m eta \u001b[36m0:00:00\u001b[0m\n",
            "\u001b[?25hInstalling collected packages: chess\n",
            "Successfully installed chess-1.9.4\n"
          ]
        }
      ]
    },
    {
      "cell_type": "code",
      "source": [
        "import pandas as pd\n",
        "import numpy as np\n",
        "import matplotlib.pyplot as plt\n",
        "import chess"
      ],
      "metadata": {
        "id": "Ryh_qKlkdmk7"
      },
      "execution_count": null,
      "outputs": []
    },
    {
      "cell_type": "code",
      "source": [
        "import numpy as np\n",
        "\n",
        "def get_piece_type(piece):\n",
        "    # Helper function to get the type of a chess piece (with color information)\n",
        "    if piece is None:\n",
        "        return None\n",
        "    elif piece.color == chess.WHITE:\n",
        "        if piece.piece_type == chess.PAWN:\n",
        "            return 'P'\n",
        "        elif piece.piece_type == chess.KNIGHT:\n",
        "            return 'N'\n",
        "        elif piece.piece_type == chess.BISHOP:\n",
        "            return 'B'\n",
        "        elif piece.piece_type == chess.ROOK:\n",
        "            return 'R'\n",
        "        elif piece.piece_type == chess.QUEEN:\n",
        "            return 'Q'\n",
        "        elif piece.piece_type == chess.KING:\n",
        "            return 'K'\n",
        "    elif piece.color == chess.BLACK:\n",
        "        if piece.piece_type == chess.PAWN:\n",
        "            return 'p'\n",
        "        elif piece.piece_type == chess.KNIGHT:\n",
        "            return 'n'\n",
        "        elif piece.piece_type == chess.BISHOP:\n",
        "            return 'b'\n",
        "        elif piece.piece_type == chess.ROOK:\n",
        "            return 'r'\n",
        "        elif piece.piece_type == chess.QUEEN:\n",
        "            return 'q'\n",
        "        elif piece.piece_type == chess.KING:\n",
        "            return 'k'\n",
        "\n",
        "def get_board_matrix(board_state):\n",
        "    # Initialize an 8x8 matrix to represent the board\n",
        "    matrix = np.zeros((8, 8), dtype=str)\n",
        "\n",
        "    # Parse the board_state string to obtain the positions of the pieces on the board\n",
        "    board = chess.Board(board_state)\n",
        "    for row in range(8):\n",
        "        for col in range(8):\n",
        "            # Get the square index corresponding to the current row and column\n",
        "            square = chess.square(col, 7 - row)\n",
        "\n",
        "            # Get the type of the piece occupying the current square (if any)\n",
        "            piece_type = get_piece_type(board.piece_at(square))\n",
        "\n",
        "            # Store the piece type in the matrix\n",
        "            matrix[row][col] = piece_type or '.'\n",
        "\n",
        "    return matrix"
      ],
      "metadata": {
        "id": "FzJEfc2VdrF3"
      },
      "execution_count": null,
      "outputs": []
    },
    {
      "cell_type": "code",
      "source": [
        "def label_encode_for_white(board_matrix):\n",
        "\n",
        "    new_board_matrix = np.zeros((8, 8), dtype=int)\n",
        "   \n",
        "    for i in range(len(board_matrix)):\n",
        "        for j in range(len(board_matrix[i])):\n",
        "            if board_matrix[i][j] == 'P':\n",
        "                new_board_matrix[i][j] = 1\n",
        "            elif board_matrix[i][j] == 'N':\n",
        "                new_board_matrix[i][j] = 3\n",
        "            elif board_matrix[i][j] == 'B':\n",
        "                new_board_matrix[i][j] = 3\n",
        "            elif board_matrix[i][j] == 'R':\n",
        "                new_board_matrix[i][j] = 5\n",
        "            elif board_matrix[i][j] == 'Q':\n",
        "                new_board_matrix[i][j] = 9\n",
        "            elif board_matrix[i][j] == 'K':\n",
        "                new_board_matrix[i][j] = 10\n",
        "            elif board_matrix[i][j] == '.':\n",
        "                new_board_matrix[i][j] = 0\n",
        "            elif board_matrix[i][j] == 'p':\n",
        "                new_board_matrix[i][j] = -1\n",
        "            elif board_matrix[i][j] == 'n':\n",
        "                new_board_matrix[i][j] = -3\n",
        "            elif board_matrix[i][j] == 'b':\n",
        "                new_board_matrix[i][j] = -3\n",
        "            elif board_matrix[i][j] == 'r':\n",
        "                new_board_matrix[i][j] = -5\n",
        "            elif board_matrix[i][j] == 'q':\n",
        "                new_board_matrix[i][j] = -9\n",
        "            elif board_matrix[i][j] == 'k':\n",
        "                new_board_matrix[i][j] = -10\n",
        "    return new_board_matrix\n",
        "\n",
        "\n",
        "def label_encode_for_black(board_matrix):\n",
        "    new_board_matrix = np.zeros((8, 8), dtype=int)\n",
        "    \n",
        "    for i in range(len(board_matrix)):\n",
        "        for j in range(len(board_matrix[i])):\n",
        "            if board_matrix[i][j] == 'P':\n",
        "                new_board_matrix[i][j] = -1\n",
        "            elif board_matrix[i][j] == 'N':\n",
        "                new_board_matrix[i][j] = -3\n",
        "            elif board_matrix[i][j] == 'B':\n",
        "                new_board_matrix[i][j] = -3\n",
        "            elif board_matrix[i][j] == 'R':\n",
        "                new_board_matrix[i][j] = -5\n",
        "            elif board_matrix[i][j] == 'Q':\n",
        "                new_board_matrix[i][j] = -9\n",
        "            elif board_matrix[i][j] == 'K':\n",
        "                new_board_matrix[i][j] = -10\n",
        "            elif board_matrix[i][j] == '.':\n",
        "                new_board_matrix[i][j] = 0\n",
        "            elif board_matrix[i][j] == 'p':\n",
        "                new_board_matrix[i][j] = 1\n",
        "            elif board_matrix[i][j] == 'n':\n",
        "                new_board_matrix[i][j] = 3\n",
        "            elif board_matrix[i][j] == 'b':\n",
        "                new_board_matrix[i][j] = 3\n",
        "            elif board_matrix[i][j] == 'r':\n",
        "                new_board_matrix[i][j] = 5\n",
        "            elif board_matrix[i][j] == 'q':\n",
        "                new_board_matrix[i][j] = 9\n",
        "            elif board_matrix[i][j] == 'k':\n",
        "                new_board_matrix[i][j] = 10\n",
        "    return new_board_matrix\n"
      ],
      "metadata": {
        "id": "lggzbUcydt_U"
      },
      "execution_count": null,
      "outputs": []
    },
    {
      "cell_type": "code",
      "source": [
        "def check_turn(board_state):\n",
        "    if board_state.split(' ')[1] == 'w':\n",
        "        return 'w'\n",
        "    else:\n",
        "        return 'b' "
      ],
      "metadata": {
        "id": "DZ3ZXm-wdv5J"
      },
      "execution_count": null,
      "outputs": []
    },
    {
      "cell_type": "code",
      "source": [
        "def label_helper(board_state):\n",
        "    board_matrix = get_board_matrix(board_state)\n",
        "    if check_turn(board_state) == 'w':\n",
        "       board_matrix = label_encode_for_black(board_matrix)\n",
        "    elif check_turn(board_state) == 'b':\n",
        "       board_matrix = label_encode_for_white(board_matrix)\n",
        "    return board_matrix"
      ],
      "metadata": {
        "id": "T3OA9Qn9dyU0"
      },
      "execution_count": null,
      "outputs": []
    },
    {
      "cell_type": "code",
      "source": [
        "# new label encoding\n",
        "def label_encode_game_based_on_turn(board_state):\n",
        "    encoded_moves = []\n",
        "    encoded_moves.append(label_helper(board_state).flatten())\n",
        "    return encoded_moves"
      ],
      "metadata": {
        "id": "gznvB5iDdz86"
      },
      "execution_count": null,
      "outputs": []
    },
    {
      "cell_type": "code",
      "source": [
        "data = pd.read_csv('/content/drive/MyDrive/chessData.csv')"
      ],
      "metadata": {
        "id": "64854-jEd2KD"
      },
      "execution_count": null,
      "outputs": []
    },
    {
      "cell_type": "code",
      "source": [
        "FEN_new = data['FEN']\n",
        "FEN_new[0].split(' ')[1]\n",
        "get_board_matrix(FEN_new[0].split(' ')[0])"
      ],
      "metadata": {
        "colab": {
          "base_uri": "https://localhost:8080/"
        },
        "id": "07YARbkoeFFq",
        "outputId": "fe3dab02-0549-428a-82a1-c5e18828e9fa"
      },
      "execution_count": null,
      "outputs": [
        {
          "output_type": "execute_result",
          "data": {
            "text/plain": [
              "array([['r', 'n', 'b', 'q', 'k', 'b', 'n', 'r'],\n",
              "       ['p', 'p', 'p', 'p', 'p', 'p', 'p', 'p'],\n",
              "       ['.', '.', '.', '.', '.', '.', '.', '.'],\n",
              "       ['.', '.', '.', '.', '.', '.', '.', '.'],\n",
              "       ['.', '.', '.', '.', 'P', '.', '.', '.'],\n",
              "       ['.', '.', '.', '.', '.', '.', '.', '.'],\n",
              "       ['P', 'P', 'P', 'P', '.', 'P', 'P', 'P'],\n",
              "       ['R', 'N', 'B', 'Q', 'K', 'B', 'N', 'R']], dtype='<U1')"
            ]
          },
          "metadata": {},
          "execution_count": 11
        }
      ]
    },
    {
      "cell_type": "code",
      "source": [
        "label_encode_game_based_on_turn(FEN_new[1000])"
      ],
      "metadata": {
        "colab": {
          "base_uri": "https://localhost:8080/"
        },
        "id": "vpabsR38eIYl",
        "outputId": "256b8cab-5c51-4656-e9f5-393f6ac72717"
      },
      "execution_count": null,
      "outputs": [
        {
          "output_type": "execute_result",
          "data": {
            "text/plain": [
              "[array([  5,   0,   0,   0,  10,   0,   3,   5,   1,   1,   0,   0,   1,\n",
              "          1,   3,   1,   0,   9,   1,   1,   0,   0,   1,   0,   0,   0,\n",
              "          3,  -1,  -1,   0,  -3,   0,   0,   0,   0,   0,   0,  -1,   3,\n",
              "          0,   0,   0,  -3,   0,   0,  -3,   0,   0,  -1,  -1,  -1,  -9,\n",
              "          0,   0,  -1,  -1,   0,   0, -10,  -5,   0,  -3,   0,  -5])]"
            ]
          },
          "metadata": {},
          "execution_count": 12
        }
      ]
    },
    {
      "cell_type": "code",
      "source": [
        "df = pd.DataFrame()\n",
        "df['Evaluations'] = data['Evaluation'].apply(lambda x: x.lstrip('#') + '000' if x.startswith('#') else x)"
      ],
      "metadata": {
        "id": "53W3CipheNU7"
      },
      "execution_count": null,
      "outputs": []
    },
    {
      "cell_type": "code",
      "source": [
        "import re\n",
        "import pandas as pd\n",
        "import re\n",
        "\n",
        "# Assuming the dataframe is already loaded into the variable `data`\n",
        "\n",
        "# Remove all non-numeric characters and keep '+' and '-' signs in the 'Evaluation' column\n",
        "df['Evaluations'] = df['Evaluations'].apply(lambda x: re.sub(r'[^0-9+\\-]', '', x))\n"
      ],
      "metadata": {
        "id": "q2Vw2MHbegaU"
      },
      "execution_count": null,
      "outputs": []
    },
    {
      "cell_type": "code",
      "source": [
        "df['Evaluations']\n",
        "# convert df to float\n",
        "df['Evaluations'] = df['Evaluations'].astype(float)"
      ],
      "metadata": {
        "id": "92pX-ZpZ0saz"
      },
      "execution_count": null,
      "outputs": []
    },
    {
      "cell_type": "code",
      "source": [
        "#convert df to numpy array\n",
        "y_new = df['Evaluations'].values"
      ],
      "metadata": {
        "id": "zQ13dYLb0yXn"
      },
      "execution_count": null,
      "outputs": []
    },
    {
      "cell_type": "code",
      "source": [
        "y_new[0]"
      ],
      "metadata": {
        "colab": {
          "base_uri": "https://localhost:8080/"
        },
        "id": "7CTv68ny5yyQ",
        "outputId": "c208315a-7238-46dc-987d-64cd99ec5e83"
      },
      "execution_count": null,
      "outputs": [
        {
          "output_type": "execute_result",
          "data": {
            "text/plain": [
              "-10.0"
            ]
          },
          "metadata": {},
          "execution_count": 23
        }
      ]
    },
    {
      "cell_type": "code",
      "source": [
        "#save the evaluation\n",
        "np.save('y_new.npy', y_new)"
      ],
      "metadata": {
        "id": "-FWNM2Ul50St"
      },
      "execution_count": null,
      "outputs": []
    },
    {
      "cell_type": "code",
      "source": [],
      "metadata": {
        "id": "BOjZS3Gx6NcW"
      },
      "execution_count": null,
      "outputs": []
    }
  ]
}